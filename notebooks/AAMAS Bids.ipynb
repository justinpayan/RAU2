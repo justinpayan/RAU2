{
 "cells": [
  {
   "cell_type": "code",
   "execution_count": 48,
   "id": "d1da0f33",
   "metadata": {},
   "outputs": [],
   "source": [
    "import numpy as np\n",
    "import os\n",
    "import re\n",
    "import seaborn as sns\n",
    "\n",
    "from sklearn.cluster import KMeans\n",
    "from tqdm.notebook import tqdm"
   ]
  },
  {
   "cell_type": "code",
   "execution_count": 78,
   "id": "656e0afa",
   "metadata": {},
   "outputs": [],
   "source": [
    "# Load the data\n",
    "data_dir = \"../data/AAMAS\"\n",
    "dset_idx = 3\n",
    "which_dset = \"00037-0000000%d.cat\" % dset_idx\n",
    "\n",
    "dset_sizes = [(201, 613), (161, 442), (667, 526)]\n",
    "# Yes, maybe, no answer, no\n",
    "rating_scores = [1.0, .5, 0.0, -1.0]\n",
    "\n",
    "if dset_idx == 3:\n",
    "    # Yes, maybe, no, conflict\n",
    "    rating_scores = [1.0, .5, -1.0, 0.0]\n",
    "\n",
    "agent_idx = 0\n",
    "with open(os.path.join(data_dir, which_dset)) as f:\n",
    "    ratings = np.zeros(dset_sizes[dset_idx-1])\n",
    "    for l in f.readlines():\n",
    "        if not l.startswith(\"#\"):\n",
    "            l = re.sub(\"[0-9]*: \", \"\", l)\n",
    "            bracket_list = re.compile(\"\\{[0-9, ]*\\}|[0-9]+\")\n",
    "            lists = bracket_list.findall(l)\n",
    "            if len(lists) != 4:\n",
    "                print(lists)\n",
    "                print(l)\n",
    "                print(\"PROBLEM\")\n",
    "            for idx, list_of_prefs in enumerate(lists):\n",
    "                if list_of_prefs != '{}':\n",
    "                    list_of_prefs = re.sub(\"[\\{\\}]\", \"\", list_of_prefs)\n",
    "                    prefs = [int(x)-1 for x in list_of_prefs.split(\",\")]\n",
    "                    ratings[agent_idx, prefs] = rating_scores[idx]\n",
    "            agent_idx += 1"
   ]
  },
  {
   "cell_type": "code",
   "execution_count": 79,
   "id": "8bd676f1",
   "metadata": {},
   "outputs": [],
   "source": [
    "np.save(os.path.join(data_dir, \"ratings_%d.npy\" % dset_idx), ratings)"
   ]
  },
  {
   "cell_type": "code",
   "execution_count": 80,
   "id": "d053d286",
   "metadata": {},
   "outputs": [],
   "source": [
    "# Use https://dl.acm.org/doi/pdf/10.1145/1553374.1553452 to get prob model for CVaR objectives\n",
    "gen = np.random.default_rng(seed=0)\n",
    "q = 20\n",
    "x = gen.normal(loc=0, scale=1e-3, size=(ratings.shape[0], q))\n",
    "sig = .05"
   ]
  },
  {
   "cell_type": "code",
   "execution_count": 81,
   "id": "53d04593",
   "metadata": {},
   "outputs": [
    {
     "data": {
      "text/plain": [
       "array([[ 1.25730221e-04, -1.32104863e-04,  6.40422650e-04, ...,\n",
       "        -3.16300156e-04,  4.11630536e-04,  1.04251337e-03],\n",
       "       [-1.28534663e-04,  1.36646347e-03, -6.65194673e-04, ...,\n",
       "        -1.29613634e-04,  7.83975470e-04,  1.49343115e-03],\n",
       "       [-1.25906553e-03,  1.51392377e-03,  1.34587542e-03, ...,\n",
       "         6.96042724e-04, -1.18411797e-03, -6.61702572e-04],\n",
       "       ...,\n",
       "       [-9.02690927e-04,  9.37403974e-04,  9.56067063e-04, ...,\n",
       "         1.11817382e-03, -1.54199682e-04,  2.54180358e-05],\n",
       "       [ 2.62712982e-04,  2.24919949e-04,  8.63618968e-05, ...,\n",
       "         4.42117853e-04,  9.69861933e-04, -1.11241352e-03],\n",
       "       [-7.35110772e-04, -5.93191918e-04,  1.13752576e-04, ...,\n",
       "        -7.00356874e-04, -4.90968554e-04, -1.48581079e-03]])"
      ]
     },
     "execution_count": 81,
     "metadata": {},
     "output_type": "execute_result"
    }
   ],
   "source": [
    "x"
   ]
  },
  {
   "cell_type": "code",
   "execution_count": 82,
   "id": "ea8c7f8c",
   "metadata": {},
   "outputs": [
    {
     "data": {
      "application/vnd.jupyter.widget-view+json": {
       "model_id": "89357c2c160047c7854b1ad8410da56a",
       "version_major": 2,
       "version_minor": 0
      },
      "text/plain": [
       "  0%|          | 0/100 [00:00<?, ?it/s]"
      ]
     },
     "metadata": {},
     "output_type": "display_data"
    }
   ],
   "source": [
    "n_iter = 100\n",
    "\n",
    "lr = 1e-4\n",
    "\n",
    "for i in tqdm(range(n_iter)):\n",
    "#     item_idx = gen.integers(ratings.shape[1])\n",
    "    for item_idx in range(ratings.shape[1]):\n",
    "        # pick out the users where this item was rated\n",
    "        observed = np.where(np.abs(ratings[:, item_idx]) > 1e-4)[0]\n",
    "#         print(observed)\n",
    "#         print(x[observed])\n",
    "        if len(observed):\n",
    "            Cj = np.matmul(x[observed], x[observed].T) + (sig**2)*np.eye(len(observed))\n",
    "#             print(Cj)\n",
    "            Cinv = np.linalg.inv(Cj)\n",
    "            yobs = ratings[observed, item_idx]\n",
    "    #         print(yobs)\n",
    "            G = np.outer(yobs, yobs)\n",
    "            G = np.matmul(Cinv, G)\n",
    "            G = np.matmul(G, Cinv)\n",
    "            G -= Cinv\n",
    "            grad = np.matmul(-G, x[observed])\n",
    "\n",
    "            x[observed] -= lr*grad"
   ]
  },
  {
   "cell_type": "code",
   "execution_count": null,
   "id": "7245fdc1",
   "metadata": {},
   "outputs": [
    {
     "name": "stdout",
     "output_type": "stream",
     "text": [
      "(667, 20)\n"
     ]
    },
    {
     "data": {
      "application/vnd.jupyter.widget-view+json": {
       "model_id": "3ceeb6c2c1cf4b7a8eddde2fcb3cf1c0",
       "version_major": 2,
       "version_minor": 0
      },
      "text/plain": [
       "  0%|          | 0/526 [00:00<?, ?it/s]"
      ]
     },
     "metadata": {},
     "output_type": "display_data"
    }
   ],
   "source": [
    "# For each item, we can sample the rating for each user. It is by section 3.1, the prediction of user rating section.\n",
    "print(x.shape)\n",
    "k = np.matmul(x, x.T)\n",
    "s = k + (sig**2)*np.eye(k.shape[0])\n",
    "mu_matrix = np.zeros(ratings.shape)\n",
    "zeta_matrix = np.zeros(ratings.shape)\n",
    "for item_idx in tqdm(range(ratings.shape[1])):\n",
    "    for user_idx in range(ratings.shape[0]):\n",
    "        observed = np.where(np.abs(ratings[:, item_idx]) > 1e-4)[0]\n",
    "        sobs = s[observed, :][:, observed]\n",
    "        final_s = np.matmul(np.linalg.inv(sobs), k[observed, user_idx])\n",
    "        mu = np.dot(final_s, ratings[observed, item_idx])\n",
    "        mu_matrix[user_idx, item_idx] = mu\n",
    "        zeta_matrix[user_idx, item_idx] = k[user_idx, user_idx] + sig**2 - np.dot(k[observed, user_idx], final_s)\n",
    "        \n",
    "# cov_mat = np.matmul(x, x.T) + (sig**2)*np.eye(x.shape[0])\n",
    "# zero_vec = np.zeros(x.shape[0])"
   ]
  },
  {
   "cell_type": "code",
   "execution_count": null,
   "id": "40053f95",
   "metadata": {},
   "outputs": [],
   "source": [
    "np.save(os.path.join(data_dir, \"mu_matrix_%d.npy\" % dset_idx), mu_matrix)\n",
    "np.save(os.path.join(data_dir, \"zeta_matrix_%d.npy\" % dset_idx), zeta_matrix)"
   ]
  },
  {
   "cell_type": "code",
   "execution_count": null,
   "id": "1e3f9ecf",
   "metadata": {},
   "outputs": [],
   "source": []
  },
  {
   "cell_type": "code",
   "execution_count": null,
   "id": "34a9af06",
   "metadata": {},
   "outputs": [],
   "source": []
  },
  {
   "cell_type": "code",
   "execution_count": null,
   "id": "c2059493",
   "metadata": {},
   "outputs": [],
   "source": []
  },
  {
   "cell_type": "code",
   "execution_count": null,
   "id": "e9c2703a",
   "metadata": {},
   "outputs": [],
   "source": [
    "ratings[np.where(ratings > .5)]"
   ]
  },
  {
   "cell_type": "code",
   "execution_count": null,
   "id": "4a8b1d89",
   "metadata": {},
   "outputs": [],
   "source": [
    "mu_matrix[np.where(ratings == 0)][:30]"
   ]
  },
  {
   "cell_type": "code",
   "execution_count": null,
   "id": "59f68e1b",
   "metadata": {},
   "outputs": [],
   "source": [
    "sns.histplot(mu_matrix.flatten(), bins=100)"
   ]
  },
  {
   "cell_type": "code",
   "execution_count": null,
   "id": "812e1fb1",
   "metadata": {},
   "outputs": [],
   "source": [
    "sns.histplot(zeta_matrix.flatten(), bins=10)"
   ]
  },
  {
   "cell_type": "code",
   "execution_count": null,
   "id": "c642949a",
   "metadata": {},
   "outputs": [],
   "source": [
    "np.max(zeta_matrix, axis=0)"
   ]
  },
  {
   "cell_type": "markdown",
   "id": "6b7f2ec0",
   "metadata": {},
   "source": [
    "# Now we'll cluster these and make groups for both getting COIs and for the GESW"
   ]
  },
  {
   "cell_type": "code",
   "execution_count": 36,
   "id": "493dce06",
   "metadata": {},
   "outputs": [
    {
     "data": {
      "text/plain": [
       "array([[-1., -1., -1., ..., -1., -1., -1.],\n",
       "       [-1., -1., -1., ..., -1., -1., -1.],\n",
       "       [-1., -1., -1., ..., -1., -1., -1.],\n",
       "       ...,\n",
       "       [-1., -1., -1., ..., -1., -1., -1.],\n",
       "       [-1., -1.,  1., ..., -1., -1., -1.],\n",
       "       [-1., -1., -1., ..., -1., -1., -1.]])"
      ]
     },
     "execution_count": 36,
     "metadata": {},
     "output_type": "execute_result"
    }
   ],
   "source": [
    "# cluster ratings\n",
    "ratings"
   ]
  },
  {
   "cell_type": "code",
   "execution_count": 37,
   "id": "1421ee93",
   "metadata": {},
   "outputs": [],
   "source": [
    "from sklearn.cluster import SpectralCoclustering\n",
    "clustering = SpectralCoclustering(n_clusters=10, random_state=0).fit(ratings)"
   ]
  },
  {
   "cell_type": "code",
   "execution_count": 38,
   "id": "bcac3235",
   "metadata": {},
   "outputs": [
    {
     "data": {
      "text/plain": [
       "array([1, 2, 0, 7, 0, 0, 5, 0, 2, 5, 5, 4, 8, 3, 2, 4, 8, 1, 1, 6, 7, 1,\n",
       "       0, 1, 0, 4, 8, 8, 9, 0, 8, 5, 9, 4, 1, 8, 1, 2, 0, 9, 9, 4, 1, 6,\n",
       "       1, 7, 3, 2, 2, 1, 8, 1, 8, 5, 8, 3, 7, 6, 5, 8, 7, 1, 1, 5, 5, 2,\n",
       "       2, 1, 1, 1, 1, 6, 8, 1, 3, 6, 8, 8, 7, 4, 7, 1, 4, 8, 5, 8, 1, 7,\n",
       "       2, 3, 0, 2, 5, 2, 1, 7, 8, 1, 7, 3, 8, 1, 8, 9, 2, 8, 8, 2, 1, 7,\n",
       "       2, 8, 5, 1, 9, 6, 8, 2, 6, 6, 8, 1, 2, 3, 1, 8, 7, 2, 0, 5, 6, 5,\n",
       "       4, 8, 8, 6, 7, 1, 6, 6, 5, 6, 6, 7, 6, 3, 8, 0, 2, 9, 1, 6, 2, 1,\n",
       "       6, 6, 4, 5, 2, 8, 6, 6, 0, 4, 1, 3, 3, 6, 6, 5, 3, 4, 2, 8, 0, 9,\n",
       "       0, 1, 9, 7, 8, 4, 5, 6, 3, 2, 1, 1, 4, 2, 0, 1, 0, 1, 0, 4, 5, 3,\n",
       "       9, 3, 8, 6, 2, 2, 0, 3, 3, 8, 1, 9, 0, 8, 9, 1, 8, 4, 0, 4, 8, 2,\n",
       "       9, 2, 1, 7, 1, 2, 1, 5, 0, 1, 3, 7, 5, 2, 5, 9, 0, 7, 1, 8, 6, 4,\n",
       "       7, 0, 5, 1, 5, 2, 5, 4, 5, 2, 5, 5, 6, 0, 5, 6, 3, 1, 2, 9, 6, 5,\n",
       "       8, 5, 9, 8, 7, 7, 6, 2, 1, 5, 6, 6, 5, 5, 6, 7, 2, 6, 2, 8, 5, 8,\n",
       "       0, 8, 2, 1, 2, 7, 6, 6, 6, 1, 2, 2, 6, 1, 1, 3, 0, 8, 2, 1, 8, 5,\n",
       "       5, 7, 5, 7, 6, 7, 0, 9, 6, 4, 7, 1, 1, 8, 4, 7, 6, 8, 5, 1, 4, 5,\n",
       "       7, 3, 2, 8, 9, 0, 9, 9, 7, 3, 2, 1, 4, 4, 9, 1, 7, 7, 8, 1, 3, 0,\n",
       "       0, 4, 0, 6, 0, 8, 9, 2, 8, 0, 1, 3, 1, 0, 6, 9, 6, 6, 1, 1, 3, 7,\n",
       "       8, 8, 1, 8, 7, 5, 9, 2, 3, 5, 6, 8, 8, 1, 1, 8, 5, 2, 0, 7, 6, 2,\n",
       "       8, 8, 7, 0, 2, 1, 5, 8, 0, 0, 2, 7, 6, 8, 6, 8, 1, 2, 6, 1, 9, 5,\n",
       "       4, 3, 1, 8, 3, 8, 9, 2, 1, 8, 9, 5, 1, 3, 0, 8, 1, 0, 1, 1, 1, 8,\n",
       "       8, 1, 7, 2, 1, 7, 2, 8, 6, 3, 7, 7, 5, 8, 2, 9, 3, 5, 8, 4, 1, 6,\n",
       "       0, 5, 7, 7, 8, 1, 8, 1, 1, 1, 0, 5, 1, 0, 3, 6, 2, 6, 1, 6, 0, 8,\n",
       "       8, 8, 6, 2, 8, 6, 3, 3, 6, 0, 1, 8, 0, 8, 8, 1, 0, 6, 5, 1, 8, 6,\n",
       "       8, 1, 7, 9, 1, 2, 1, 2, 5, 6, 3, 0, 2, 1, 1, 3, 0, 6, 8, 5, 8, 8,\n",
       "       1, 2, 0, 6, 1, 2, 5, 8, 6, 1, 6, 5, 8, 2, 2, 1, 6, 6, 5, 2, 1, 9,\n",
       "       5, 7, 4, 7, 0, 2, 7, 7, 2, 1, 1, 5, 4, 8, 4, 1, 5, 8, 2, 8, 2, 7,\n",
       "       6, 1, 6, 2, 3, 1, 5, 7, 9, 9, 4, 9, 1, 6, 6, 1, 7, 8, 8, 7, 8, 1,\n",
       "       1, 6, 7, 5, 8, 8, 9, 5, 1, 9, 0, 6, 8, 6, 1, 8, 1, 7, 8, 1, 1, 6,\n",
       "       5, 3, 3, 5, 7, 1, 2, 5, 8, 1, 9, 0, 6, 7, 8, 9, 6, 6, 6, 2, 2, 8,\n",
       "       8, 6, 5, 7, 8, 6, 1, 3, 2, 1, 8, 1, 6, 6, 2, 8, 1, 5, 1, 3, 4, 3,\n",
       "       0, 2, 6, 8, 6, 5, 5])"
      ]
     },
     "execution_count": 38,
     "metadata": {},
     "output_type": "execute_result"
    }
   ],
   "source": [
    "clustering.row_labels_"
   ]
  },
  {
   "cell_type": "code",
   "execution_count": 39,
   "id": "8b660559",
   "metadata": {},
   "outputs": [
    {
     "data": {
      "text/plain": [
       "array([2, 6, 5, 1, 1, 2, 5, 3, 1, 6, 0, 2, 2, 5, 1, 9, 1, 8, 7, 1, 3, 2,\n",
       "       2, 8, 8, 1, 5, 8, 3, 8, 7, 8, 8, 5, 8, 0, 5, 7, 1, 4, 1, 8, 6, 3,\n",
       "       1, 8, 8, 1, 2, 2, 8, 6, 8, 9, 4, 2, 3, 0, 7, 1, 8, 0, 0, 2, 5, 1,\n",
       "       1, 6, 0, 2, 2, 8, 9, 1, 6, 7, 0, 5, 3, 5, 0, 0, 0, 5, 1, 1, 5, 5,\n",
       "       6, 6, 5, 6, 1, 8, 1, 8, 2, 2, 3, 0, 1, 2, 1, 8, 7, 5, 1, 2, 8, 7,\n",
       "       1, 9, 6, 6, 8, 1, 8, 2, 1, 2, 5, 2, 9, 5, 8, 2, 1, 1, 6, 1, 9, 5,\n",
       "       1, 1, 5, 6, 2, 3, 2, 1, 6, 6, 1, 6, 6, 1, 2, 1, 7, 8, 7, 2, 0, 1,\n",
       "       9, 6, 6, 1, 1, 1, 6, 4, 7, 8, 6, 1, 6, 1, 2, 5, 1, 8, 1, 2, 7, 8,\n",
       "       3, 5, 2, 3, 9, 8, 2, 6, 7, 5, 1, 5, 4, 1, 1, 1, 9, 1, 0, 1, 5, 1,\n",
       "       1, 8, 1, 8, 2, 2, 8, 2, 1, 2, 7, 1, 5, 8, 8, 5, 1, 2, 9, 0, 7, 6,\n",
       "       0, 1, 2, 1, 5, 6, 8, 2, 7, 2, 6, 0, 3, 2, 4, 3, 0, 8, 9, 8, 1, 2,\n",
       "       6, 8, 1, 9, 1, 0, 9, 2, 8, 1, 8, 6, 8, 5, 7, 5, 5, 1, 4, 8, 2, 6,\n",
       "       1, 6, 8, 9, 7, 6, 1, 3, 3, 3, 5, 9, 0, 1, 8, 2, 7, 2, 7, 5, 4, 2,\n",
       "       1, 5, 2, 1, 6, 1, 0, 1, 1, 2, 1, 1, 5, 4, 3, 1, 1, 8, 5, 1, 1, 2,\n",
       "       1, 0, 1, 5, 2, 2, 1, 2, 1, 1, 8, 1, 8, 8, 5, 5, 8, 6, 8, 8, 2, 6,\n",
       "       1, 0, 5, 6, 7, 6, 1, 0, 8, 0, 2, 2, 1, 6, 4, 8, 1, 5, 6, 8, 0, 1,\n",
       "       2, 8, 2, 3, 1, 2, 0, 5, 8, 4, 8, 6, 0, 2, 5, 5, 4, 6, 5, 1, 3, 8,\n",
       "       5, 3, 5, 4, 3, 0, 8, 4, 1, 8, 6, 1, 8, 7, 6, 7, 3, 5, 6, 1, 7, 8,\n",
       "       8, 3, 1, 0, 1, 1, 0, 6, 8, 9, 0, 5, 1, 2, 3, 1, 4, 8, 0, 5, 1, 0,\n",
       "       3, 6, 6, 1, 1, 5, 9, 5, 1, 2, 1, 0, 1, 2, 1, 2, 2, 1, 2, 2, 1, 1,\n",
       "       3, 8, 9, 2, 1, 0, 2, 4, 2, 1, 5, 0, 8, 1, 0, 5, 2, 8, 5, 2, 1, 8,\n",
       "       5, 1, 9, 8, 1, 7, 3, 1, 0, 6, 1, 1, 1, 6, 1, 0, 5, 6, 2, 7, 3, 3,\n",
       "       7, 8, 8, 2, 1, 7, 1, 0, 8, 9, 5, 8, 4, 0, 6, 8, 5, 5, 2, 0, 8, 5,\n",
       "       1, 0, 6, 2, 7, 1, 1, 1, 1, 5, 0, 8, 1, 5, 1, 3, 3, 2, 1, 1])"
      ]
     },
     "execution_count": 39,
     "metadata": {},
     "output_type": "execute_result"
    }
   ],
   "source": [
    "clustering.column_labels_"
   ]
  },
  {
   "cell_type": "code",
   "execution_count": 40,
   "id": "fb455c68",
   "metadata": {},
   "outputs": [
    {
     "data": {
      "text/plain": [
       "(667, 526)"
      ]
     },
     "execution_count": 40,
     "metadata": {},
     "output_type": "execute_result"
    }
   ],
   "source": [
    "ratings.shape"
   ]
  },
  {
   "cell_type": "code",
   "execution_count": 41,
   "id": "7dfc5d23",
   "metadata": {},
   "outputs": [
    {
     "data": {
      "text/plain": [
       "Counter({2: 73,\n",
       "         6: 51,\n",
       "         5: 61,\n",
       "         1: 128,\n",
       "         3: 30,\n",
       "         0: 44,\n",
       "         9: 20,\n",
       "         8: 75,\n",
       "         7: 28,\n",
       "         4: 16})"
      ]
     },
     "execution_count": 41,
     "metadata": {},
     "output_type": "execute_result"
    }
   ],
   "source": [
    "from collections import Counter\n",
    "Counter(clustering.column_labels_)"
   ]
  },
  {
   "cell_type": "code",
   "execution_count": 42,
   "id": "3c13d05c",
   "metadata": {},
   "outputs": [],
   "source": [
    "np.save(os.path.join(data_dir, \"groups_%d.npy\" % dset_idx), clustering.column_labels_)"
   ]
  },
  {
   "cell_type": "code",
   "execution_count": 43,
   "id": "854f83ec",
   "metadata": {},
   "outputs": [],
   "source": [
    "coi_mask = (np.reshape(clustering.column_labels_, (1,-1)) == np.reshape(clustering.row_labels_, (-1, 1))).astype(int)"
   ]
  },
  {
   "cell_type": "code",
   "execution_count": 44,
   "id": "815545b5",
   "metadata": {},
   "outputs": [
    {
     "data": {
      "text/plain": [
       "0.12269910672040406"
      ]
     },
     "execution_count": 44,
     "metadata": {},
     "output_type": "execute_result"
    }
   ],
   "source": [
    "np.sum(coi_mask)/coi_mask.size"
   ]
  },
  {
   "cell_type": "code",
   "execution_count": 45,
   "id": "eb8cdbc1",
   "metadata": {},
   "outputs": [],
   "source": [
    "# np.sum(coi_mask, axis=0)"
   ]
  },
  {
   "cell_type": "code",
   "execution_count": 46,
   "id": "fe2980a4",
   "metadata": {},
   "outputs": [
    {
     "name": "stdout",
     "output_type": "stream",
     "text": [
      "../data/AAMAS\n"
     ]
    }
   ],
   "source": [
    "print(data_dir)"
   ]
  },
  {
   "cell_type": "code",
   "execution_count": 47,
   "id": "23b9b62e",
   "metadata": {},
   "outputs": [],
   "source": [
    "np.save(os.path.join(data_dir, \"coi_mask_%d.npy\" % dset_idx), coi_mask)"
   ]
  },
  {
   "cell_type": "code",
   "execution_count": null,
   "id": "ccba1042",
   "metadata": {},
   "outputs": [],
   "source": []
  }
 ],
 "metadata": {
  "kernelspec": {
   "display_name": "Python 3 (ipykernel)",
   "language": "python",
   "name": "python3"
  },
  "language_info": {
   "codemirror_mode": {
    "name": "ipython",
    "version": 3
   },
   "file_extension": ".py",
   "mimetype": "text/x-python",
   "name": "python",
   "nbconvert_exporter": "python",
   "pygments_lexer": "ipython3",
   "version": "3.9.13"
  }
 },
 "nbformat": 4,
 "nbformat_minor": 5
}
