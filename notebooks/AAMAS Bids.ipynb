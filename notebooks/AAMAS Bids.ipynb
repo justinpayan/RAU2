{
 "cells": [
  {
   "cell_type": "code",
   "execution_count": 12,
   "id": "d1da0f33",
   "metadata": {},
   "outputs": [],
   "source": [
    "import numpy as np\n",
    "import os\n",
    "import re\n",
    "import seaborn as sns\n",
    "\n",
    "from sklearn.cluster import KMeans\n",
    "from tqdm.notebook import tqdm"
   ]
  },
  {
   "cell_type": "code",
   "execution_count": 39,
   "id": "656e0afa",
   "metadata": {},
   "outputs": [],
   "source": [
    "# Load the data\n",
    "data_dir = \"../data/AAMAS\"\n",
    "dset_idx = 2\n",
    "which_dset = \"00037-0000000%d.cat\" % dset_idx\n",
    "\n",
    "dset_sizes = [(201, 613), (161, 442), (667, 526)]\n",
    "# Yes, maybe, no answer, no\n",
    "rating_scores = [1.0, .5, -1.0, 0.0]\n",
    "\n",
    "if dset_idx == 3:\n",
    "    # Yes, maybe, no, conflict\n",
    "    rating_scores = [1.0, .5, 0.0, 0.0]\n",
    "\n",
    "agent_idx = 0\n",
    "with open(os.path.join(data_dir, which_dset)) as f:\n",
    "    ratings = np.ones(dset_sizes[dset_idx-1])*-1\n",
    "    for l in f.readlines():\n",
    "        if not l.startswith(\"#\"):\n",
    "            l = re.sub(\"[0-9]*: \", \"\", l)\n",
    "            bracket_list = re.compile(\"\\{[0-9, ]*\\}|[0-9]+\")\n",
    "            lists = bracket_list.findall(l)\n",
    "            if len(lists) != 4:\n",
    "                print(lists)\n",
    "                print(l)\n",
    "                print(\"PROBLEM\")\n",
    "            for idx, list_of_prefs in enumerate(lists):\n",
    "                if list_of_prefs != '{}':\n",
    "                    list_of_prefs = re.sub(\"[\\{\\}]\", \"\", list_of_prefs)\n",
    "                    prefs = [int(x)-1 for x in list_of_prefs.split(\",\")]\n",
    "                    ratings[agent_idx, prefs] = rating_scores[idx]\n",
    "            agent_idx += 1"
   ]
  },
  {
   "cell_type": "code",
   "execution_count": 40,
   "id": "8bd676f1",
   "metadata": {},
   "outputs": [],
   "source": [
    "np.save(os.path.join(data_dir, \"ratings_%d.npy\" % dset_idx), ratings)"
   ]
  },
  {
   "cell_type": "code",
   "execution_count": 31,
   "id": "d053d286",
   "metadata": {},
   "outputs": [],
   "source": [
    "# Use https://dl.acm.org/doi/pdf/10.1145/1553374.1553452 to get prob model for CVaR objectives\n",
    "gen = np.random.default_rng(seed=0)\n",
    "q = 20\n",
    "x = gen.normal(loc=0, scale=1e-3, size=(ratings.shape[0], q))\n",
    "sig = .05"
   ]
  },
  {
   "cell_type": "code",
   "execution_count": 32,
   "id": "53d04593",
   "metadata": {},
   "outputs": [
    {
     "data": {
      "text/plain": [
       "array([[ 1.25730221e-04, -1.32104863e-04,  6.40422650e-04, ...,\n",
       "        -3.16300156e-04,  4.11630536e-04,  1.04251337e-03],\n",
       "       [-1.28534663e-04,  1.36646347e-03, -6.65194673e-04, ...,\n",
       "        -1.29613634e-04,  7.83975470e-04,  1.49343115e-03],\n",
       "       [-1.25906553e-03,  1.51392377e-03,  1.34587542e-03, ...,\n",
       "         6.96042724e-04, -1.18411797e-03, -6.61702572e-04],\n",
       "       ...,\n",
       "       [-9.02690927e-04,  9.37403974e-04,  9.56067063e-04, ...,\n",
       "         1.11817382e-03, -1.54199682e-04,  2.54180358e-05],\n",
       "       [ 2.62712982e-04,  2.24919949e-04,  8.63618968e-05, ...,\n",
       "         4.42117853e-04,  9.69861933e-04, -1.11241352e-03],\n",
       "       [-7.35110772e-04, -5.93191918e-04,  1.13752576e-04, ...,\n",
       "        -7.00356874e-04, -4.90968554e-04, -1.48581079e-03]])"
      ]
     },
     "execution_count": 32,
     "metadata": {},
     "output_type": "execute_result"
    }
   ],
   "source": [
    "x"
   ]
  },
  {
   "cell_type": "code",
   "execution_count": 33,
   "id": "ea8c7f8c",
   "metadata": {},
   "outputs": [
    {
     "data": {
      "application/vnd.jupyter.widget-view+json": {
       "model_id": "795c7a1a6e694408bb172f909597d5f9",
       "version_major": 2,
       "version_minor": 0
      },
      "text/plain": [
       "  0%|          | 0/100 [00:00<?, ?it/s]"
      ]
     },
     "metadata": {},
     "output_type": "display_data"
    }
   ],
   "source": [
    "n_iter = 100\n",
    "\n",
    "lr = 1e-4\n",
    "\n",
    "for i in tqdm(range(n_iter)):\n",
    "#     item_idx = gen.integers(ratings.shape[1])\n",
    "    for item_idx in range(ratings.shape[1]):\n",
    "        # pick out the users where this item was rated\n",
    "        observed = np.where(ratings[:, item_idx] > -1)[0]\n",
    "#         print(observed)\n",
    "#         print(x[observed])\n",
    "        if len(observed):\n",
    "            Cj = np.matmul(x[observed], x[observed].T) + (sig**2)*np.eye(len(observed))\n",
    "#             print(Cj)\n",
    "            Cinv = np.linalg.inv(Cj)\n",
    "            yobs = ratings[observed, item_idx]\n",
    "    #         print(yobs)\n",
    "            G = np.outer(yobs, yobs)\n",
    "            G = np.matmul(Cinv, G)\n",
    "            G = np.matmul(G, Cinv)\n",
    "            G -= Cinv\n",
    "            grad = np.matmul(-G, x[observed])\n",
    "\n",
    "            x[observed] -= lr*grad"
   ]
  },
  {
   "cell_type": "code",
   "execution_count": 34,
   "id": "7245fdc1",
   "metadata": {},
   "outputs": [
    {
     "name": "stdout",
     "output_type": "stream",
     "text": [
      "(667, 20)\n"
     ]
    },
    {
     "data": {
      "application/vnd.jupyter.widget-view+json": {
       "model_id": "dd7c09017ec04cec990be84763050ccc",
       "version_major": 2,
       "version_minor": 0
      },
      "text/plain": [
       "  0%|          | 0/526 [00:00<?, ?it/s]"
      ]
     },
     "metadata": {},
     "output_type": "display_data"
    }
   ],
   "source": [
    "# For each item, we can sample the rating for each user. It is by section 3.1, the prediction of user rating section.\n",
    "print(x.shape)\n",
    "k = np.matmul(x, x.T)\n",
    "s = k + (sig**2)*np.eye(k.shape[0])\n",
    "mu_matrix = np.zeros(ratings.shape)\n",
    "zeta_matrix = np.zeros(ratings.shape)\n",
    "for item_idx in tqdm(range(ratings.shape[1])):\n",
    "    for user_idx in range(ratings.shape[0]):\n",
    "        observed = np.where(ratings[:, item_idx] > -1)[0]\n",
    "        sobs = s[observed, :][:, observed]\n",
    "        final_s = np.matmul(np.linalg.inv(sobs), k[observed, user_idx])\n",
    "        mu = np.dot(final_s, ratings[observed, item_idx])\n",
    "        mu_matrix[user_idx, item_idx] = mu\n",
    "        zeta_matrix[user_idx, item_idx] = k[user_idx, user_idx] + sig**2 - np.dot(k[observed, user_idx], final_s)\n",
    "        \n",
    "# cov_mat = np.matmul(x, x.T) + (sig**2)*np.eye(x.shape[0])\n",
    "# zero_vec = np.zeros(x.shape[0])"
   ]
  },
  {
   "cell_type": "code",
   "execution_count": 35,
   "id": "40053f95",
   "metadata": {},
   "outputs": [],
   "source": [
    "np.save(os.path.join(data_dir, \"mu_matrix_%d.npy\" % dset_idx), mu_matrix)\n",
    "np.save(os.path.join(data_dir, \"zeta_matrix_%d.npy\" % dset_idx), zeta_matrix)"
   ]
  },
  {
   "cell_type": "code",
   "execution_count": null,
   "id": "1e3f9ecf",
   "metadata": {},
   "outputs": [],
   "source": []
  },
  {
   "cell_type": "code",
   "execution_count": null,
   "id": "34a9af06",
   "metadata": {},
   "outputs": [],
   "source": []
  },
  {
   "cell_type": "code",
   "execution_count": null,
   "id": "c2059493",
   "metadata": {},
   "outputs": [],
   "source": []
  },
  {
   "cell_type": "code",
   "execution_count": 151,
   "id": "e9c2703a",
   "metadata": {},
   "outputs": [
    {
     "data": {
      "text/plain": [
       "array([1., 1., 1., ..., 1., 1., 1.])"
      ]
     },
     "execution_count": 151,
     "metadata": {},
     "output_type": "execute_result"
    }
   ],
   "source": [
    "ratings[np.where(ratings > .5)]"
   ]
  },
  {
   "cell_type": "code",
   "execution_count": 155,
   "id": "4a8b1d89",
   "metadata": {},
   "outputs": [
    {
     "data": {
      "text/plain": [
       "array([-0.01621861,  0.28169282,  0.23701582,  0.10838368, -0.2615885 ,\n",
       "        0.47669638,  0.04270126,  0.13154674,  0.46009273,  0.01434247,\n",
       "        0.33669058, -0.27595985,  0.        ,  0.2385581 ,  0.12300941,\n",
       "        0.04526598, -0.1431527 ,  0.        ,  0.33957263,  0.44809244,\n",
       "        0.03617239,  0.        , -0.05069996, -0.17888261,  0.        ,\n",
       "        0.15625124, -0.05879681,  0.44051402,  0.07920854,  0.09037884])"
      ]
     },
     "execution_count": 155,
     "metadata": {},
     "output_type": "execute_result"
    }
   ],
   "source": [
    "mu_matrix[np.where(ratings == -1)][:30]"
   ]
  },
  {
   "cell_type": "code",
   "execution_count": 156,
   "id": "59f68e1b",
   "metadata": {},
   "outputs": [
    {
     "data": {
      "text/plain": [
       "<Axes: ylabel='Count'>"
      ]
     },
     "execution_count": 156,
     "metadata": {},
     "output_type": "execute_result"
    },
    {
     "data": {
      "image/png": "[encoded data removed]",
      "text/plain": [
       "<Figure size 640x480 with 1 Axes>"
      ]
     },
     "metadata": {},
     "output_type": "display_data"
    }
   ],
   "source": [
    "sns.histplot(mu_matrix.flatten(), bins=100)"
   ]
  },
  {
   "cell_type": "code",
   "execution_count": 157,
   "id": "812e1fb1",
   "metadata": {},
   "outputs": [
    {
     "data": {
      "text/plain": [
       "<Axes: ylabel='Count'>"
      ]
     },
     "execution_count": 157,
     "metadata": {},
     "output_type": "execute_result"
    },
    {
     "data": {
      "image/png": "[encoded data removed]",
      "text/plain": [
       "<Figure size 640x480 with 1 Axes>"
      ]
     },
     "metadata": {},
     "output_type": "display_data"
    }
   ],
   "source": [
    "sns.histplot(zeta_matrix.flatten(), bins=10)"
   ]
  },
  {
   "cell_type": "code",
   "execution_count": 158,
   "id": "c642949a",
   "metadata": {},
   "outputs": [
    {
     "data": {
      "text/plain": [
       "array([0.15194241, 0.13859594, 0.0507062 , 0.05612834, 0.32793219,\n",
       "       0.04765433, 0.02811136, 0.34508156, 0.02078981, 0.12536627,\n",
       "       0.08233812, 0.11086097, 0.02492427, 0.40562618, 0.03469057,\n",
       "       0.13182147, 0.06501704, 0.32989277, 0.37585181, 0.45118057,\n",
       "       0.22111023, 0.28826735, 0.41227688, 0.24847342, 0.05732374,\n",
       "       0.01612703, 0.32669186, 0.47255597, 0.25802966, 0.04108789,\n",
       "       0.06612102, 0.32190418, 0.32934102, 0.15792025, 0.28214656,\n",
       "       0.37641849, 0.124527  , 0.0728178 , 0.18503687, 0.05196345,\n",
       "       0.17868831, 0.1262745 , 0.10693518, 0.10158686, 0.1138225 ,\n",
       "       0.36022514, 0.34831542, 0.24278315, 0.28024291, 0.02818292,\n",
       "       0.04031584, 0.06534489, 0.10100747, 0.05640988, 0.05800738,\n",
       "       0.37379741, 0.2526848 , 0.06971938, 0.0467932 , 0.11262895,\n",
       "       0.08524228, 0.31336816, 0.1884608 , 0.22299948, 0.0461245 ,\n",
       "       0.07105353, 0.17999654, 0.06119408, 0.0172835 , 0.28160619,\n",
       "       0.162687  , 0.06154334, 0.1075831 , 0.10365915, 0.04404226,\n",
       "       0.33437333, 0.07679911, 0.03348653, 0.42817021, 0.19622278,\n",
       "       0.34364388, 0.22661812, 0.40562618, 0.17980638, 0.1138205 ,\n",
       "       0.26304368, 0.1631115 , 0.28146794, 0.21377256, 0.09134353,\n",
       "       0.25162668, 0.08247587, 0.29773759, 0.17162178, 0.04531838,\n",
       "       0.28081286, 0.17272155, 0.0611278 , 0.07313759, 0.32633582,\n",
       "       0.30280082, 0.37586627, 0.33578562, 0.28760231, 0.2979167 ,\n",
       "       0.27586178, 0.36837012, 0.22446044, 0.12613011, 0.4055022 ,\n",
       "       0.09494638, 0.11056301, 0.066432  , 0.02153092, 0.05772372,\n",
       "       0.07941924, 0.27218263, 0.02275156, 0.22330114, 0.06341709,\n",
       "       0.04076925, 0.20140128, 0.16235553, 0.1422122 , 0.12503005,\n",
       "       0.07126626, 0.40562618, 0.39307541, 0.15950865, 0.28788562,\n",
       "       0.36229871, 0.31361005, 0.17822122, 0.18809224, 0.34060309,\n",
       "       0.0968371 , 0.14429279, 0.20827668, 0.12207725, 0.12680963,\n",
       "       0.17862783, 0.05125818, 0.36745011, 0.16375796, 0.37585181,\n",
       "       0.22109518, 0.03745842, 0.37174767, 0.40218907, 0.07215651,\n",
       "       0.0412501 , 0.1401005 , 0.17584546, 0.21054064, 0.03148469,\n",
       "       0.47547663, 0.36837012, 0.28128307, 0.18657464, 0.47255597,\n",
       "       0.42110268, 0.1788791 , 0.24294728, 0.32701119, 0.1279209 ,\n",
       "       0.08764404, 0.14207331, 0.32947463, 0.37585181, 0.08835247,\n",
       "       0.34259354, 0.04666697, 0.19909317, 0.09691707, 0.23897108,\n",
       "       0.20559852, 0.10437188, 0.15779742, 0.10612691, 0.20892959,\n",
       "       0.17371979, 0.21230947, 0.09159359, 0.12030649, 0.18439043,\n",
       "       0.26048622, 0.17321555, 0.02444043, 0.06086987, 0.26677596,\n",
       "       0.37015233, 0.19527492, 0.02812563, 0.33736803, 0.35130042,\n",
       "       0.02730178, 0.11068574, 0.25262607, 0.23158841, 0.06166084,\n",
       "       0.15244853, 0.40562618, 0.09965201, 0.11452529, 0.31789066,\n",
       "       0.18699477, 0.24165242, 0.33388334, 0.10973952, 0.27194482,\n",
       "       0.08862675, 0.32977556, 0.17825957, 0.18473827, 0.08494318,\n",
       "       0.03832333, 0.09383201, 0.13665787, 0.09760343, 0.30304185,\n",
       "       0.13241583, 0.25370578, 0.16839067, 0.0998724 , 0.34355518,\n",
       "       0.40562618, 0.1410478 , 0.0537006 , 0.22089887, 0.37589124,\n",
       "       0.13222259, 0.37996233, 0.02874331, 0.04493173, 0.28984489,\n",
       "       0.04297744, 0.2717222 , 0.16247355, 0.05116171, 0.29949453,\n",
       "       0.36572218, 0.13458557, 0.02951944, 0.15893518, 0.02235262,\n",
       "       0.18959152, 0.10532701, 0.25677716, 0.10807937, 0.23859955,\n",
       "       0.11266678, 0.29512813, 0.07545449, 0.18071331, 0.07590095,\n",
       "       0.11487845, 0.31801982, 0.28827444, 0.33206604, 0.33366412,\n",
       "       0.06674161, 0.0126187 , 0.1602131 , 0.16399801, 0.05365455,\n",
       "       0.23158771, 0.46115227, 0.08903372, 0.40562618, 0.17002038,\n",
       "       0.04955688, 0.1586176 , 0.16150339, 0.13737666, 0.1870861 ,\n",
       "       0.07681878, 0.34562382, 0.2717222 , 0.1820297 , 0.2504368 ,\n",
       "       0.07487761, 0.12272114, 0.36677659, 0.10471065, 0.07608589,\n",
       "       0.20224945, 0.40561118, 0.12050033, 0.20268397, 0.26364024,\n",
       "       0.20340206, 0.08181462, 0.39943736, 0.26859703, 0.25833317,\n",
       "       0.31052747, 0.46074238, 0.1635535 , 0.25609454, 0.37872206,\n",
       "       0.26712299, 0.46576157, 0.16666858, 0.27191434, 0.46576157,\n",
       "       0.18920812, 0.13541549, 0.19924793, 0.19231126, 0.1557428 ,\n",
       "       0.16310881, 0.27027636, 0.16848653, 0.29807773, 0.3512935 ,\n",
       "       0.0955986 , 0.27393778, 0.18810282, 0.37181843, 0.31144943,\n",
       "       0.24239371, 0.26726815, 0.23239474, 0.2414183 , 0.21262548,\n",
       "       0.08214964, 0.04440697, 0.09188512, 0.40303432, 0.47255597,\n",
       "       0.04694882, 0.28265232, 0.01624674, 0.1046355 , 0.13478082,\n",
       "       0.20098343, 0.12764238, 0.35942173, 0.38547003, 0.284338  ,\n",
       "       0.27205922, 0.28688036, 0.22744875, 0.20415182, 0.21861791,\n",
       "       0.10573482, 0.22657169, 0.2685489 , 0.08186146, 0.28336821,\n",
       "       0.03634537, 0.05196855, 0.11841232, 0.29682659, 0.09725733,\n",
       "       0.02959277, 0.24862031, 0.24331732, 0.40550761, 0.34022078,\n",
       "       0.32504805, 0.07320346, 0.47255597, 0.13274925, 0.16739777,\n",
       "       0.33967178, 0.02715675, 0.20224417, 0.30678381, 0.34895229,\n",
       "       0.13339786, 0.32633582, 0.22526171, 0.0794286 , 0.02974062,\n",
       "       0.06578887, 0.31431956, 0.29767295, 0.26892712, 0.02224106,\n",
       "       0.10618674, 0.1993189 , 0.44587834, 0.13333759, 0.42384968,\n",
       "       0.11251146, 0.04205163, 0.47255597, 0.31716784, 0.13683613,\n",
       "       0.24731501, 0.01804445, 0.26675551, 0.1683152 , 0.12350436,\n",
       "       0.30093546, 0.22521317, 0.03236314, 0.06786134, 0.37174767,\n",
       "       0.154768  , 0.01405253, 0.09017146, 0.18539776, 0.33579035,\n",
       "       0.0782665 , 0.32553093, 0.0788082 , 0.21821697, 0.33437333,\n",
       "       0.11015951, 0.36574022, 0.19882539, 0.28064173, 0.3701575 ,\n",
       "       0.04498556, 0.26949427, 0.24923883, 0.10386239, 0.46576157,\n",
       "       0.07411424, 0.08084762, 0.18679417, 0.109847  , 0.05754439,\n",
       "       0.34152243, 0.02145306, 0.41043344, 0.29091058, 0.11305078,\n",
       "       0.1640335 , 0.1045581 , 0.04241564, 0.07255799, 0.24773207,\n",
       "       0.28976068, 0.31202219, 0.23653033, 0.12058721, 0.09858298,\n",
       "       0.04281549, 0.31068147, 0.20457206, 0.083085  , 0.08988635,\n",
       "       0.15693336, 0.16262875, 0.1463468 , 0.08958066, 0.28419419,\n",
       "       0.36431984, 0.36375078, 0.30131132, 0.19276105, 0.1451687 ,\n",
       "       0.08544614, 0.28382611, 0.05923519, 0.01801793, 0.31476511,\n",
       "       0.31674185, 0.36338216, 0.26543673, 0.45118057, 0.23013945,\n",
       "       0.04565   , 0.03183948, 0.2811871 , 0.4018938 , 0.34901113,\n",
       "       0.25964503, 0.40550761, 0.03643655, 0.33554724, 0.35620394,\n",
       "       0.10904492, 0.15428781, 0.38953465, 0.02802164, 0.09895619,\n",
       "       0.36411758, 0.06489384, 0.3428116 , 0.26476103, 0.2091332 ,\n",
       "       0.33543991, 0.27911946, 0.25270851, 0.04973272, 0.33619876,\n",
       "       0.34613444, 0.16276057, 0.09763683, 0.02472309, 0.14725874,\n",
       "       0.0864471 , 0.08442252, 0.09894381, 0.3576544 , 0.08556662,\n",
       "       0.46875169, 0.12476007, 0.10242959, 0.14197041, 0.34005045,\n",
       "       0.3588135 , 0.22770966, 0.24686665, 0.36229871, 0.1754005 ,\n",
       "       0.13712061, 0.26212113, 0.04649649, 0.05902553, 0.01745956,\n",
       "       0.04131326, 0.11120517, 0.17400966, 0.30247825, 0.08283621,\n",
       "       0.16432297, 0.34666   , 0.29844121, 0.37585181, 0.31923834,\n",
       "       0.10540771, 0.04101855, 0.2414183 , 0.22477107, 0.36370044,\n",
       "       0.20644795, 0.07609816, 0.11731593, 0.09108984, 0.16025605,\n",
       "       0.1936783 , 0.04012113, 0.33153386, 0.04832828, 0.20663699,\n",
       "       0.20991113, 0.10420922, 0.36370044, 0.02670187, 0.05052234,\n",
       "       0.0878671 , 0.05823452, 0.04177623, 0.09366012, 0.2717222 ,\n",
       "       0.04794757, 0.08506739, 0.24460044, 0.41421036, 0.19282813,\n",
       "       0.27205922, 0.38426003, 0.17952231, 0.13859332, 0.34714887,\n",
       "       0.09120498, 0.15157991, 0.09577718, 0.08165596, 0.16836867,\n",
       "       0.07296954, 0.24159057, 0.08857918, 0.13033444, 0.2418301 ,\n",
       "       0.33992856, 0.10740021, 0.26300674, 0.02650183, 0.1551152 ,\n",
       "       0.13798363, 0.19254416, 0.11229292, 0.17259297, 0.05606115,\n",
       "       0.07316084, 0.09893195, 0.2762191 , 0.02582796, 0.27250177,\n",
       "       0.34025258, 0.26869233, 0.15766944, 0.33919968, 0.29137785,\n",
       "       0.26114309, 0.07589723, 0.13484583, 0.41074424, 0.11428135,\n",
       "       0.34594215, 0.11454294, 0.2330878 , 0.05124331, 0.08295739,\n",
       "       0.22866276, 0.26339832, 0.04353033, 0.40230218, 0.28579767,\n",
       "       0.34371867, 0.10676121, 0.37402836, 0.17647079, 0.1612297 ,\n",
       "       0.09644556, 0.10491747, 0.10604917])"
      ]
     },
     "execution_count": 158,
     "metadata": {},
     "output_type": "execute_result"
    }
   ],
   "source": [
    "np.max(zeta_matrix, axis=0)"
   ]
  },
  {
   "cell_type": "markdown",
   "id": "6be224f8",
   "metadata": {},
   "source": [
    "# Construct groups"
   ]
  },
  {
   "cell_type": "code",
   "execution_count": 47,
   "id": "0d95a885",
   "metadata": {},
   "outputs": [],
   "source": [
    "dset_idx = 3\n",
    "data_dir = \"../data/AAMAS\"\n",
    "\n",
    "mu_matrix = np.load(os.path.join(data_dir, \"mu_matrix_%d.npy\" % dset_idx))"
   ]
  },
  {
   "cell_type": "code",
   "execution_count": 48,
   "id": "45bb1341",
   "metadata": {},
   "outputs": [
    {
     "data": {
      "text/plain": [
       "(667, 526)"
      ]
     },
     "execution_count": 48,
     "metadata": {},
     "output_type": "execute_result"
    }
   ],
   "source": [
    "mu_matrix.shape"
   ]
  },
  {
   "cell_type": "code",
   "execution_count": 49,
   "id": "916e3b49",
   "metadata": {},
   "outputs": [
    {
     "data": {
      "text/plain": [
       "<Axes: ylabel='Count'>"
      ]
     },
     "execution_count": 49,
     "metadata": {},
     "output_type": "execute_result"
    },
    {
     "data": {
      "image/png": "[encoded data removed]",
      "text/plain": [
       "<Figure size 640x480 with 1 Axes>"
      ]
     },
     "metadata": {},
     "output_type": "display_data"
    }
   ],
   "source": [
    "sns.histplot(mu_matrix.flatten())"
   ]
  },
  {
   "cell_type": "code",
   "execution_count": 50,
   "id": "81c67eb0",
   "metadata": {},
   "outputs": [
    {
     "data": {
      "text/plain": [
       "KMeans(n_clusters=4)"
      ]
     },
     "execution_count": 50,
     "metadata": {},
     "output_type": "execute_result"
    }
   ],
   "source": [
    "km = KMeans(n_clusters=4)\n",
    "km.fit(mu_matrix.T)"
   ]
  },
  {
   "cell_type": "code",
   "execution_count": 51,
   "id": "a0c6e8eb",
   "metadata": {},
   "outputs": [],
   "source": [
    "np.save(os.path.join(data_dir, \"groups_%d.npy\" % dset_idx), km.labels_)"
   ]
  },
  {
   "cell_type": "code",
   "execution_count": 52,
   "id": "54af47a3",
   "metadata": {},
   "outputs": [
    {
     "data": {
      "text/plain": [
       "526"
      ]
     },
     "execution_count": 52,
     "metadata": {},
     "output_type": "execute_result"
    }
   ],
   "source": [
    "len(km.labels_)"
   ]
  },
  {
   "cell_type": "code",
   "execution_count": 53,
   "id": "d9f3833b",
   "metadata": {},
   "outputs": [
    {
     "data": {
      "text/plain": [
       "Counter({1: 48, 0: 364, 2: 68, 3: 46})"
      ]
     },
     "execution_count": 53,
     "metadata": {},
     "output_type": "execute_result"
    }
   ],
   "source": [
    "from collections import Counter\n",
    "Counter(km.labels_)"
   ]
  },
  {
   "cell_type": "code",
   "execution_count": null,
   "id": "65b69f04",
   "metadata": {},
   "outputs": [],
   "source": []
  }
 ],
 "metadata": {
  "kernelspec": {
   "display_name": "Python 3 (ipykernel)",
   "language": "python",
   "name": "python3"
  },
  "language_info": {
   "codemirror_mode": {
    "name": "ipython",
    "version": 3
   },
   "file_extension": ".py",
   "mimetype": "text/x-python",
   "name": "python",
   "nbconvert_exporter": "python",
   "pygments_lexer": "ipython3",
   "version": "3.9.13"
  }
 },
 "nbformat": 4,
 "nbformat_minor": 5
}
