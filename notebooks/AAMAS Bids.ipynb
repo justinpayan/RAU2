{
 "cells": [
  {
   "cell_type": "code",
   "execution_count": 48,
   "id": "d1da0f33",
   "metadata": {},
   "outputs": [],
   "source": [
    "import numpy as np\n",
    "import os\n",
    "import re\n",
    "import seaborn as sns\n",
    "\n",
    "from sklearn.cluster import KMeans\n",
    "from tqdm.notebook import tqdm"
   ]
  },
  {
   "cell_type": "code",
   "execution_count": 115,
   "id": "656e0afa",
   "metadata": {},
   "outputs": [],
   "source": [
    "# Load the data\n",
    "data_dir = \"../data/AAMAS\"\n",
    "dset_idx = 1\n",
    "which_dset = \"00037-0000000%d.cat\" % dset_idx\n",
    "\n",
    "dset_sizes = [(201, 613), (161, 442), (667, 526)]\n",
    "# Yes, maybe, no answer, no\n",
    "rating_scores = [1.0, .5, 0.0, -1.0]\n",
    "\n",
    "if dset_idx == 3:\n",
    "    # Yes, maybe, no, conflict\n",
    "    rating_scores = [1.0, .5, -1.0, 0.0]\n",
    "\n",
    "agent_idx = 0\n",
    "with open(os.path.join(data_dir, which_dset)) as f:\n",
    "    ratings = np.zeros(dset_sizes[dset_idx-1])\n",
    "    for l in f.readlines():\n",
    "        if not l.startswith(\"#\"):\n",
    "            l = re.sub(\"[0-9]*: \", \"\", l)\n",
    "            bracket_list = re.compile(\"\\{[0-9, ]*\\}|[0-9]+\")\n",
    "            lists = bracket_list.findall(l)\n",
    "            if len(lists) != 4:\n",
    "                print(lists)\n",
    "                print(l)\n",
    "                print(\"PROBLEM\")\n",
    "            for idx, list_of_prefs in enumerate(lists):\n",
    "                if list_of_prefs != '{}':\n",
    "                    list_of_prefs = re.sub(\"[\\{\\}]\", \"\", list_of_prefs)\n",
    "                    prefs = [int(x)-1 for x in list_of_prefs.split(\",\")]\n",
    "                    ratings[agent_idx, prefs] = rating_scores[idx]\n",
    "            agent_idx += 1"
   ]
  },
  {
   "cell_type": "code",
   "execution_count": 79,
   "id": "8bd676f1",
   "metadata": {},
   "outputs": [],
   "source": [
    "np.save(os.path.join(data_dir, \"ratings_%d.npy\" % dset_idx), ratings)"
   ]
  },
  {
   "cell_type": "code",
   "execution_count": 80,
   "id": "d053d286",
   "metadata": {},
   "outputs": [],
   "source": [
    "# Use https://dl.acm.org/doi/pdf/10.1145/1553374.1553452 to get prob model for CVaR objectives\n",
    "gen = np.random.default_rng(seed=0)\n",
    "q = 20\n",
    "x = gen.normal(loc=0, scale=1e-3, size=(ratings.shape[0], q))\n",
    "sig = .05"
   ]
  },
  {
   "cell_type": "code",
   "execution_count": 81,
   "id": "53d04593",
   "metadata": {},
   "outputs": [
    {
     "data": {
      "text/plain": [
       "array([[ 1.25730221e-04, -1.32104863e-04,  6.40422650e-04, ...,\n",
       "        -3.16300156e-04,  4.11630536e-04,  1.04251337e-03],\n",
       "       [-1.28534663e-04,  1.36646347e-03, -6.65194673e-04, ...,\n",
       "        -1.29613634e-04,  7.83975470e-04,  1.49343115e-03],\n",
       "       [-1.25906553e-03,  1.51392377e-03,  1.34587542e-03, ...,\n",
       "         6.96042724e-04, -1.18411797e-03, -6.61702572e-04],\n",
       "       ...,\n",
       "       [-9.02690927e-04,  9.37403974e-04,  9.56067063e-04, ...,\n",
       "         1.11817382e-03, -1.54199682e-04,  2.54180358e-05],\n",
       "       [ 2.62712982e-04,  2.24919949e-04,  8.63618968e-05, ...,\n",
       "         4.42117853e-04,  9.69861933e-04, -1.11241352e-03],\n",
       "       [-7.35110772e-04, -5.93191918e-04,  1.13752576e-04, ...,\n",
       "        -7.00356874e-04, -4.90968554e-04, -1.48581079e-03]])"
      ]
     },
     "execution_count": 81,
     "metadata": {},
     "output_type": "execute_result"
    }
   ],
   "source": [
    "x"
   ]
  },
  {
   "cell_type": "code",
   "execution_count": 82,
   "id": "ea8c7f8c",
   "metadata": {},
   "outputs": [
    {
     "data": {
      "application/vnd.jupyter.widget-view+json": {
       "model_id": "89357c2c160047c7854b1ad8410da56a",
       "version_major": 2,
       "version_minor": 0
      },
      "text/plain": [
       "  0%|          | 0/100 [00:00<?, ?it/s]"
      ]
     },
     "metadata": {},
     "output_type": "display_data"
    }
   ],
   "source": [
    "n_iter = 100\n",
    "\n",
    "lr = 1e-4\n",
    "\n",
    "for i in tqdm(range(n_iter)):\n",
    "#     item_idx = gen.integers(ratings.shape[1])\n",
    "    for item_idx in range(ratings.shape[1]):\n",
    "        # pick out the users where this item was rated\n",
    "        observed = np.where(np.abs(ratings[:, item_idx]) > 1e-4)[0]\n",
    "#         print(observed)\n",
    "#         print(x[observed])\n",
    "        if len(observed):\n",
    "            Cj = np.matmul(x[observed], x[observed].T) + (sig**2)*np.eye(len(observed))\n",
    "#             print(Cj)\n",
    "            Cinv = np.linalg.inv(Cj)\n",
    "            yobs = ratings[observed, item_idx]\n",
    "    #         print(yobs)\n",
    "            G = np.outer(yobs, yobs)\n",
    "            G = np.matmul(Cinv, G)\n",
    "            G = np.matmul(G, Cinv)\n",
    "            G -= Cinv\n",
    "            grad = np.matmul(-G, x[observed])\n",
    "\n",
    "            x[observed] -= lr*grad"
   ]
  },
  {
   "cell_type": "code",
   "execution_count": 83,
   "id": "7245fdc1",
   "metadata": {},
   "outputs": [
    {
     "name": "stdout",
     "output_type": "stream",
     "text": [
      "(667, 20)\n"
     ]
    },
    {
     "data": {
      "application/vnd.jupyter.widget-view+json": {
       "model_id": "3ceeb6c2c1cf4b7a8eddde2fcb3cf1c0",
       "version_major": 2,
       "version_minor": 0
      },
      "text/plain": [
       "  0%|          | 0/526 [00:00<?, ?it/s]"
      ]
     },
     "metadata": {},
     "output_type": "display_data"
    }
   ],
   "source": [
    "# For each item, we can sample the rating for each user. It is by section 3.1, the prediction of user rating section.\n",
    "print(x.shape)\n",
    "k = np.matmul(x, x.T)\n",
    "s = k + (sig**2)*np.eye(k.shape[0])\n",
    "mu_matrix = np.zeros(ratings.shape)\n",
    "zeta_matrix = np.zeros(ratings.shape)\n",
    "for item_idx in tqdm(range(ratings.shape[1])):\n",
    "    for user_idx in range(ratings.shape[0]):\n",
    "        observed = np.where(np.abs(ratings[:, item_idx]) > 1e-4)[0]\n",
    "        sobs = s[observed, :][:, observed]\n",
    "        final_s = np.matmul(np.linalg.inv(sobs), k[observed, user_idx])\n",
    "        mu = np.dot(final_s, ratings[observed, item_idx])\n",
    "        mu_matrix[user_idx, item_idx] = mu\n",
    "        zeta_matrix[user_idx, item_idx] = k[user_idx, user_idx] + sig**2 - np.dot(k[observed, user_idx], final_s)\n",
    "        \n",
    "# cov_mat = np.matmul(x, x.T) + (sig**2)*np.eye(x.shape[0])\n",
    "# zero_vec = np.zeros(x.shape[0])"
   ]
  },
  {
   "cell_type": "code",
   "execution_count": 84,
   "id": "40053f95",
   "metadata": {},
   "outputs": [],
   "source": [
    "np.save(os.path.join(data_dir, \"mu_matrix_%d.npy\" % dset_idx), mu_matrix)\n",
    "np.save(os.path.join(data_dir, \"zeta_matrix_%d.npy\" % dset_idx), zeta_matrix)"
   ]
  },
  {
   "cell_type": "code",
   "execution_count": null,
   "id": "1e3f9ecf",
   "metadata": {},
   "outputs": [],
   "source": []
  },
  {
   "cell_type": "code",
   "execution_count": null,
   "id": "34a9af06",
   "metadata": {},
   "outputs": [],
   "source": []
  },
  {
   "cell_type": "code",
   "execution_count": null,
   "id": "c2059493",
   "metadata": {},
   "outputs": [],
   "source": []
  },
  {
   "cell_type": "code",
   "execution_count": 93,
   "id": "e9c2703a",
   "metadata": {},
   "outputs": [
    {
     "data": {
      "text/plain": [
       "(6665,)"
      ]
     },
     "execution_count": 93,
     "metadata": {},
     "output_type": "execute_result"
    }
   ],
   "source": [
    "ratings[np.where(ratings > .5)].shape"
   ]
  },
  {
   "cell_type": "code",
   "execution_count": 94,
   "id": "4a8b1d89",
   "metadata": {},
   "outputs": [
    {
     "data": {
      "text/plain": [
       "array([-7.82595666e-01, -9.49701474e-01, -8.63080155e-01, -7.11956223e-01,\n",
       "       -6.62208094e-01, -5.55182234e-01,  3.65711030e-01,  6.88942575e-01,\n",
       "        1.31609686e-01, -7.93921557e-01,  3.11553308e-01,  4.97713798e-01,\n",
       "        6.16549406e-01, -5.88141446e-01,  7.99683303e-01, -4.09261306e-01,\n",
       "       -3.58425982e-01, -1.44308933e-01, -7.85643181e-01,  9.15239815e-01,\n",
       "        4.12078698e-01,  8.53442885e-01,  1.45487714e-01,  1.38522053e-01,\n",
       "        1.12499062e+00, -5.72806046e-01,  6.43900552e-01, -4.78208311e-01,\n",
       "       -2.08070794e-01, -5.61838505e-01, -5.11127539e-01, -4.26639376e-01,\n",
       "        2.71069772e-01,  8.73428142e-01, -1.30637189e-01,  1.10271852e+00,\n",
       "       -2.54017071e-01, -5.12118856e-01,  4.39566798e-02,  1.23874228e+00,\n",
       "       -1.71406061e-01, -3.12844073e-01,  1.07128820e+00,  1.04576835e+00,\n",
       "       -1.97453317e-01,  1.59088408e-01,  3.70741113e-01,  8.84302374e-01,\n",
       "       -3.36355965e-01,  1.99348149e+00,  1.89502857e+00,  2.76547596e-01,\n",
       "        7.80480377e-01, -9.21975994e-02,  7.17513496e-01, -5.97529995e-02,\n",
       "        8.81875167e-01,  4.79028915e-02, -4.88479170e-01,  6.62318938e-02,\n",
       "        6.04620642e-01, -7.15121663e-01,  2.88140693e-02,  3.36013640e-01,\n",
       "        1.09795212e-03,  1.02758578e+00, -7.86326680e-01, -5.05990869e-02,\n",
       "       -7.93547134e-01,  4.19802078e-01, -8.95815529e-01,  5.21356697e-01,\n",
       "       -3.93322209e-01, -6.98295341e-01, -1.87201935e-01, -1.83081502e-01,\n",
       "       -9.67376874e-01, -9.45787539e-01,  1.55395552e-01, -8.61997458e-01,\n",
       "       -2.89258805e-01, -5.21034912e-01, -8.80324815e-01, -4.24925236e-01,\n",
       "        4.55173616e-01,  5.11036655e-01, -5.80320518e-01, -3.78273940e-02,\n",
       "       -1.97091806e-01, -5.32186667e-01, -4.50337594e-01, -3.01354425e-01,\n",
       "        3.66006980e-01, -8.02205731e-01,  1.41260161e-01,  4.72467041e-01,\n",
       "        1.39308136e-01, -3.74339329e-01, -3.21604042e-01,  1.11026870e+00,\n",
       "       -6.96833354e-01, -8.76534928e-01, -6.83127364e-01,  8.79931702e-01,\n",
       "        5.54568103e-01,  3.06465746e-01,  8.87668102e-01, -1.37363021e-01,\n",
       "        2.41216759e-01,  9.09369050e-01, -3.85363945e-01,  2.88801410e-01,\n",
       "        1.93123854e-01,  7.68021221e-01, -7.87122906e-01,  7.66626824e-01,\n",
       "        1.48140229e-01, -4.57148752e-01, -8.39619971e-01, -6.72240139e-01,\n",
       "       -8.85115161e-01, -6.63591368e-01, -5.83242023e-01, -7.17624871e-01,\n",
       "        3.99490444e-01, -8.16983972e-02,  7.78437465e-01, -9.69629197e-02,\n",
       "        5.38779976e-01,  1.50683514e-01,  1.05989769e-01, -1.74845806e-01,\n",
       "        8.94847141e-01, -3.28856149e-01, -3.67531800e-02,  4.48656532e-01,\n",
       "        1.64048892e-01, -2.70676001e-01,  1.08641038e+00, -5.10473918e-03,\n",
       "        1.09628284e+00, -1.24445669e-01,  4.37053421e-01,  7.37365806e-01,\n",
       "        4.91486582e-01,  7.15108156e-01, -9.51318996e-02,  6.14347339e-01,\n",
       "       -4.90046117e-01,  7.47965971e-01,  1.06648813e-01,  7.20397766e-01,\n",
       "        4.08756295e-01,  1.13355496e+00,  9.65567676e-01,  4.29217939e-01,\n",
       "        2.14943907e-01,  8.09163067e-01,  9.81002188e-01,  4.45523637e-02,\n",
       "        3.40525502e-01,  1.49069551e-01, -6.79426736e-01, -6.33316274e-01,\n",
       "       -4.16138448e-01,  9.21176553e-01,  3.78586209e-01,  2.07797206e-01,\n",
       "        1.23531112e+00,  4.58290989e-01,  5.76300389e-01,  7.46868221e-01,\n",
       "        2.71050015e-01,  1.54808447e+00, -2.80458096e-01,  5.00140792e-02,\n",
       "        7.44150579e-01, -8.77750055e-02,  8.55954953e-02,  1.00012351e+00,\n",
       "        9.64842071e-01,  9.52827904e-01, -3.78253132e-01, -1.04265988e-01,\n",
       "        7.62462681e-01,  7.94738068e-01, -2.02433380e-01,  4.40564780e-01,\n",
       "        1.15402193e+00, -1.19623570e-01,  4.85026202e-01,  1.05250523e+00,\n",
       "        1.18104001e+00,  9.65611135e-01,  1.22058330e+00,  7.33408368e-01,\n",
       "        4.68214725e-01,  7.59656930e-01,  9.64583172e-01,  4.80453221e-01,\n",
       "        9.10219279e-01,  9.43373435e-01, -9.78319999e-01, -6.10029388e-01,\n",
       "       -6.72873382e-01, -8.65025663e-01, -2.11000890e-01, -7.06380935e-01,\n",
       "       -2.16603189e-01, -7.00071082e-01, -1.53037813e-01, -2.74228696e-01,\n",
       "       -9.41318766e-01, -5.88495920e-01, -8.68560409e-01, -4.68548078e-01,\n",
       "       -5.44951140e-01,  5.51949913e-02, -4.97735877e-01, -7.97482818e-01,\n",
       "       -7.69988791e-01, -3.34097483e-01, -1.74422896e-01, -2.81026176e-01,\n",
       "       -1.33312552e-01, -3.26110789e-01, -3.38370180e-02, -2.27577921e-01,\n",
       "       -2.55273106e-01, -7.06400850e-01, -8.70123427e-01, -1.93696559e-01,\n",
       "       -5.76342871e-01, -6.14350152e-01,  7.29685882e-01,  9.67020198e-01,\n",
       "       -7.74231651e-01,  1.34703936e-01, -9.92038621e-02,  3.44423837e-01,\n",
       "        8.75081831e-01,  9.83300622e-01, -6.46955062e-01,  2.74209814e-01,\n",
       "        7.49081636e-01,  3.48261148e-01,  8.27643883e-02,  1.91395501e+00,\n",
       "       -1.17549974e-01, -7.09288902e-01,  1.66754085e+00, -6.95606936e-01,\n",
       "       -1.90569717e-01, -2.94242452e-01, -5.08749784e-01, -6.47986052e-01,\n",
       "       -8.14777185e-01, -2.83332534e-01, -6.63603976e-01, -9.33112761e-01,\n",
       "       -6.24972539e-01, -2.24008161e-01, -7.05509099e-01,  1.41369294e-01,\n",
       "       -5.42363670e-02,  7.59242074e-01, -1.08205302e-01, -1.32375644e-01,\n",
       "       -3.10886717e-01,  4.79825106e-01, -7.98100346e-01, -2.91292738e-01,\n",
       "       -2.15018252e-01, -5.04685000e-01, -9.73213128e-02,  3.36797211e-01,\n",
       "        1.91655399e-01, -4.79367113e-01, -2.83340735e-01, -2.80134374e-01,\n",
       "       -6.04787683e-01, -1.48264375e-02,  2.78428219e-01, -1.37957439e-02,\n",
       "        1.09115434e-01, -1.81298642e-02, -2.47843606e-01, -5.94653633e-01,\n",
       "       -2.33426072e-01,  2.68194968e-01, -3.73806721e-01, -2.56173556e-01,\n",
       "       -6.63316461e-01, -7.01617033e-01, -8.41791634e-01, -3.53603908e-01,\n",
       "       -7.70027745e-01, -8.95101451e-01, -6.89412986e-01, -9.70947376e-01])"
      ]
     },
     "execution_count": 94,
     "metadata": {},
     "output_type": "execute_result"
    }
   ],
   "source": [
    "mu_matrix[np.where(ratings == 1)][:300]"
   ]
  },
  {
   "cell_type": "code",
   "execution_count": 87,
   "id": "59f68e1b",
   "metadata": {},
   "outputs": [
    {
     "data": {
      "text/plain": [
       "<Axes: ylabel='Count'>"
      ]
     },
     "execution_count": 87,
     "metadata": {},
     "output_type": "execute_result"
    },
    {
     "data": {
      "image/png": "[encoded data removed]",
      "text/plain": [
       "<Figure size 640x480 with 1 Axes>"
      ]
     },
     "metadata": {},
     "output_type": "display_data"
    }
   ],
   "source": [
    "sns.histplot(mu_matrix.flatten(), bins=100)"
   ]
  },
  {
   "cell_type": "code",
   "execution_count": 88,
   "id": "812e1fb1",
   "metadata": {},
   "outputs": [
    {
     "data": {
      "text/plain": [
       "<Axes: ylabel='Count'>"
      ]
     },
     "execution_count": 88,
     "metadata": {},
     "output_type": "execute_result"
    },
    {
     "data": {
      "image/png": "[encoded data removed]",
      "text/plain": [
       "<Figure size 640x480 with 1 Axes>"
      ]
     },
     "metadata": {},
     "output_type": "display_data"
    }
   ],
   "source": [
    "sns.histplot(zeta_matrix.flatten(), bins=10)"
   ]
  },
  {
   "cell_type": "code",
   "execution_count": 89,
   "id": "c642949a",
   "metadata": {},
   "outputs": [
    {
     "data": {
      "text/plain": [
       "array([0.00296505, 0.00296334, 0.00296435, 0.00295996, 0.00295934,\n",
       "       0.00296299, 0.00295931, 0.0029594 , 0.00296597, 0.00297264,\n",
       "       0.00295932, 0.00296923, 0.00296814, 0.00295931, 0.00296012,\n",
       "       0.00295932, 0.00296251, 0.00295974, 0.00296325, 0.00297145,\n",
       "       0.00295931, 0.0030498 , 0.00295968, 0.00295931, 0.00297273,\n",
       "       0.00295999, 0.00295989, 0.00296557, 0.0029594 , 0.00306311,\n",
       "       0.00296902, 0.00296407, 0.00295937, 0.0029602 , 0.00296237,\n",
       "       0.00296058, 0.00295931, 0.00295931, 0.00295931, 0.00295955,\n",
       "       0.0029636 , 0.00295938, 0.00295931, 0.00296003, 0.00296141,\n",
       "       0.00296319, 0.00296025, 0.00296027, 0.00296245, 0.00296156,\n",
       "       0.00295938, 0.00296021, 0.00296334, 0.00295934, 0.00295954,\n",
       "       0.00296074, 0.00295932, 0.00295931, 0.00296271, 0.00310144,\n",
       "       0.00296818, 0.00295972, 0.00296031, 0.00295961, 0.00295976,\n",
       "       0.00296168, 0.00295946, 0.00295964, 0.00295935, 0.0029677 ,\n",
       "       0.0029684 , 0.00295998, 0.00296061, 0.00296353, 0.00297428,\n",
       "       0.00295938, 0.00295989, 0.00296251, 0.00296001, 0.00296399,\n",
       "       0.00295934, 0.00296034, 0.00296584, 0.00295955, 0.00296006,\n",
       "       0.00312258, 0.00296311, 0.00296532, 0.00295944, 0.00295931,\n",
       "       0.00299964, 0.00296246, 0.00296063, 0.00295938, 0.00296067,\n",
       "       0.0029595 , 0.00296861, 0.00295932, 0.00295992, 0.00295937,\n",
       "       0.00296023, 0.00295944, 0.00295931, 0.00295931, 0.00295986,\n",
       "       0.00295931, 0.00295973, 0.00295948, 0.0029602 , 0.00296135,\n",
       "       0.00295982, 0.00296149, 0.00295931, 0.00296156, 0.00296169,\n",
       "       0.00295931, 0.0029611 , 0.00296142, 0.00295943, 0.00297376,\n",
       "       0.00296167, 0.00295931, 0.00295945, 0.00296302, 0.00296336,\n",
       "       0.0029676 , 0.00295931, 0.00296295, 0.00295945, 0.00295931,\n",
       "       0.00296111, 0.00296399, 0.00296031, 0.00295931, 0.00298268,\n",
       "       0.00296489, 0.00295931, 0.00295931, 0.00296   , 0.00304387,\n",
       "       0.00295931, 0.00295931, 0.00295931, 0.0029596 , 0.00295945,\n",
       "       0.00311889, 0.00296145, 0.00296126, 0.00296949, 0.0029595 ,\n",
       "       0.00295952, 0.00296274, 0.00296668, 0.00295941, 0.00299192,\n",
       "       0.00296697, 0.00295931, 0.00296164, 0.00295934, 0.00304284,\n",
       "       0.00298268, 0.00295974, 0.00295931, 0.00296418, 0.00296331,\n",
       "       0.0029595 , 0.00296747, 0.00295966, 0.00296319, 0.00296257,\n",
       "       0.00295931, 0.00296315, 0.00296808, 0.00295943, 0.00295952,\n",
       "       0.00295948, 0.00296226, 0.00295931, 0.00295931, 0.00295932,\n",
       "       0.00295935, 0.00296611, 0.00296172, 0.00296048, 0.00296023,\n",
       "       0.00296756, 0.00296041, 0.00295972, 0.00296156, 0.0029608 ,\n",
       "       0.00296162, 0.00297652, 0.00295991, 0.00297499, 0.00296186,\n",
       "       0.00296482, 0.00296808, 0.00296434, 0.00296031, 0.00295931,\n",
       "       0.00295931, 0.00295995, 0.00296006, 0.00296281, 0.00296277,\n",
       "       0.00295976, 0.00295931, 0.00295934, 0.00295951, 0.00296018,\n",
       "       0.00296656, 0.00296288, 0.00296355, 0.00296683, 0.00297362,\n",
       "       0.00296484, 0.00295931, 0.00296759, 0.00295931, 0.00298009,\n",
       "       0.00296864, 0.00296722, 0.0029636 , 0.00297976, 0.00296154,\n",
       "       0.00295931, 0.00295937, 0.00295931, 0.00295932, 0.00296008,\n",
       "       0.00297985, 0.0029661 , 0.00295957, 0.00295934, 0.00296183,\n",
       "       0.0029633 , 0.00295931, 0.00296508, 0.00296023, 0.00305234,\n",
       "       0.0030634 , 0.00295942, 0.00297264, 0.00295938, 0.00295931,\n",
       "       0.00296   , 0.00297499, 0.00295936, 0.00299192, 0.00296431,\n",
       "       0.00295993, 0.00297499, 0.00295957, 0.00296025, 0.00296373,\n",
       "       0.00296501, 0.00295997, 0.0029598 , 0.00295936, 0.00295931,\n",
       "       0.00296183, 0.00297268, 0.0029633 , 0.00295969, 0.00295931,\n",
       "       0.00296645, 0.00296003, 0.00295935, 0.00295936, 0.00296207,\n",
       "       0.00296022, 0.00295931, 0.00296217, 0.00296278, 0.00297067,\n",
       "       0.0029765 , 0.00295978, 0.00295958, 0.00296021, 0.00296068,\n",
       "       0.0029677 , 0.00295992, 0.00295983, 0.00295973, 0.00295941,\n",
       "       0.00295931, 0.00295931, 0.00295931, 0.00297631, 0.00296294,\n",
       "       0.00295931, 0.00296532, 0.00296392, 0.00295999, 0.00295931,\n",
       "       0.00296025, 0.00296129, 0.00313205, 0.00296058, 0.0029606 ,\n",
       "       0.00295936, 0.00295994, 0.00297099, 0.00296048, 0.00296135,\n",
       "       0.00296   , 0.00295931, 0.00295931, 0.00295931, 0.00295964,\n",
       "       0.00296645, 0.00295947, 0.00295963, 0.00295965, 0.0029601 ,\n",
       "       0.0029595 , 0.00295969, 0.00295931, 0.00296013, 0.00296026,\n",
       "       0.00296258, 0.00296257, 0.00296055, 0.00295931, 0.00296014,\n",
       "       0.00298172, 0.00295967, 0.00295954, 0.00295931, 0.0029649 ,\n",
       "       0.0029713 , 0.00296584, 0.00296279, 0.00298072, 0.00295958,\n",
       "       0.0029603 , 0.00296532, 0.00295931, 0.0029605 , 0.00295931,\n",
       "       0.00296808, 0.0029599 , 0.00295959, 0.00297682, 0.00296257,\n",
       "       0.00295969, 0.00295934, 0.00295931, 0.00295965, 0.0029597 ,\n",
       "       0.00296584, 0.00295931, 0.00295934, 0.00297101, 0.00296068,\n",
       "       0.00295931, 0.00311889, 0.00295954, 0.00296318, 0.00295944,\n",
       "       0.00296356, 0.00297638, 0.00296453, 0.00296618, 0.00296186,\n",
       "       0.0029681 , 0.0030488 , 0.00296701, 0.00296255, 0.00295931,\n",
       "       0.00296018, 0.00296538, 0.00296588, 0.00295931, 0.00296038,\n",
       "       0.00295931, 0.00296027, 0.00296039, 0.00296439, 0.00296043,\n",
       "       0.00296026, 0.00295931, 0.00295941, 0.00296211, 0.0029636 ,\n",
       "       0.00295939, 0.0029595 , 0.00295931, 0.00296059, 0.00296156,\n",
       "       0.00296192, 0.00295931, 0.00296142, 0.00295934, 0.00295931,\n",
       "       0.00296019, 0.00295994, 0.00296078, 0.00295931, 0.00296487,\n",
       "       0.00296007, 0.00296302, 0.00295972, 0.00296207, 0.0029594 ,\n",
       "       0.00295971, 0.00296274, 0.00296099, 0.00295983, 0.00296193,\n",
       "       0.00305188, 0.00295931, 0.00296324, 0.00296073, 0.00295931,\n",
       "       0.00295931, 0.00296301, 0.00295931, 0.00295986, 0.00296234,\n",
       "       0.00304588, 0.00295943, 0.00295971, 0.00296417, 0.00296772,\n",
       "       0.00295998, 0.00296003, 0.00295957, 0.00304455, 0.00295931,\n",
       "       0.00305964, 0.00297493, 0.00295931, 0.00296067, 0.00299964,\n",
       "       0.00298294, 0.00296201, 0.00296325, 0.00296532, 0.00296744,\n",
       "       0.00295983, 0.00296103, 0.00296512, 0.00295958, 0.00295999,\n",
       "       0.00296495, 0.00295931, 0.00295931, 0.00295992, 0.00295972,\n",
       "       0.00296277, 0.00295931, 0.00296025, 0.00296301, 0.00296058,\n",
       "       0.00297597, 0.00295931, 0.00296439, 0.00296427, 0.00295992,\n",
       "       0.00296022, 0.00296009, 0.00296089, 0.00295931, 0.00295939,\n",
       "       0.00295931, 0.00295931, 0.00295931, 0.00296015, 0.00296346,\n",
       "       0.00296332, 0.00296301, 0.00295968, 0.00297618, 0.00296363,\n",
       "       0.00296068, 0.00296121, 0.00295935, 0.0029598 , 0.00295931,\n",
       "       0.00296754, 0.00295931, 0.00296107, 0.00296006, 0.00295931,\n",
       "       0.00295931, 0.00296514, 0.00295994, 0.00297302, 0.0029594 ,\n",
       "       0.00296019, 0.00296679, 0.00295989, 0.00295996, 0.00296014,\n",
       "       0.00296004, 0.00296278, 0.00295964, 0.002963  , 0.00295957,\n",
       "       0.00295946, 0.0029623 , 0.00297099, 0.00295931, 0.0029594 ,\n",
       "       0.00295998, 0.00295944, 0.00295961, 0.00296301, 0.00296028,\n",
       "       0.00295931, 0.00295931, 0.00295931, 0.00296295, 0.0029595 ,\n",
       "       0.00295951, 0.00301654, 0.00296333, 0.00296076, 0.0029623 ,\n",
       "       0.00295931, 0.00305188, 0.00296735, 0.00296313, 0.00296151,\n",
       "       0.00295991])"
      ]
     },
     "execution_count": 89,
     "metadata": {},
     "output_type": "execute_result"
    }
   ],
   "source": [
    "np.max(zeta_matrix, axis=0)"
   ]
  },
  {
   "cell_type": "markdown",
   "id": "f8ec7b56",
   "metadata": {},
   "source": [
    "# Now we'll cluster these and make groups for both getting COIs and for the GESW"
   ]
  },
  {
   "cell_type": "code",
   "execution_count": 247,
   "id": "caf0c5e3",
   "metadata": {},
   "outputs": [
    {
     "data": {
      "text/plain": [
       "array([[ 0.,  0.,  0., ...,  0., -1.,  0.],\n",
       "       [ 0.,  0.,  0., ...,  0.,  0.,  0.],\n",
       "       [ 0.,  0.,  0., ...,  0.,  0.,  0.],\n",
       "       ...,\n",
       "       [ 0.,  0.,  0., ...,  0.,  0.,  0.],\n",
       "       [ 0.,  0.,  0., ...,  0.,  0.,  0.],\n",
       "       [ 0.,  0.,  0., ...,  0.,  0.,  0.]])"
      ]
     },
     "execution_count": 247,
     "metadata": {},
     "output_type": "execute_result"
    }
   ],
   "source": [
    "# cluster ratings\n",
    "dset_idx = 1\n",
    "ratings = np.load(os.path.join(data_dir, \"ratings_%d.npy\" % dset_idx))\n",
    "\n",
    "ratings"
   ]
  },
  {
   "cell_type": "code",
   "execution_count": 248,
   "id": "75ffa752",
   "metadata": {},
   "outputs": [
    {
     "data": {
      "text/plain": [
       "<Axes: ylabel='Count'>"
      ]
     },
     "execution_count": 248,
     "metadata": {},
     "output_type": "execute_result"
    },
    {
     "data": {
      "image/png": "[encoded data removed]",
      "text/plain": [
       "<Figure size 640x480 with 1 Axes>"
      ]
     },
     "metadata": {},
     "output_type": "display_data"
    }
   ],
   "source": [
    "sns.histplot(ratings.flatten())"
   ]
  },
  {
   "cell_type": "code",
   "execution_count": 288,
   "id": "fe686b8c",
   "metadata": {},
   "outputs": [],
   "source": [
    "from sklearn.cluster import SpectralBiclustering, KMeans\n",
    "from scipy.spatial.distance import cdist\n",
    "clustering = SpectralBiclustering(n_clusters=4, random_state=1, method=\"log\").fit(ratings)"
   ]
  },
  {
   "cell_type": "code",
   "execution_count": 296,
   "id": "c6c3df29",
   "metadata": {},
   "outputs": [
    {
     "name": "stdout",
     "output_type": "stream",
     "text": [
      "40\n",
      "(201, 4)\n",
      "Gurobi Optimizer version 10.0.3 build v10.0.3rc0 (win64)\n",
      "\n",
      "CPU model: Intel(R) Core(TM) i5-10300H CPU @ 2.50GHz, instruction set [SSE2|AVX|AVX2]\n",
      "Thread count: 4 physical cores, 8 logical processors, using up to 8 threads\n",
      "\n",
      "Optimize a model with 205 rows, 804 columns and 1608 nonzeros\n",
      "Model fingerprint: 0x3689be0e\n",
      "Variable types: 0 continuous, 804 integer (804 binary)\n",
      "Coefficient statistics:\n",
      "  Matrix range     [1e+00, 1e+00]\n",
      "  Objective range  [2e-16, 2e+01]\n",
      "  Bounds range     [1e+00, 1e+00]\n",
      "  RHS range        [1e+00, 4e+01]\n",
      "Found heuristic solution: objective 2437.3007530\n",
      "Presolve time: 0.00s\n",
      "Presolved: 205 rows, 804 columns, 1608 nonzeros\n",
      "Variable types: 0 continuous, 804 integer (804 binary)\n",
      "Found heuristic solution: objective 2109.4391748\n",
      "\n",
      "Root relaxation: objective 1.941488e+03, 267 iterations, 0.00 seconds (0.00 work units)\n",
      "\n",
      "    Nodes    |    Current Node    |     Objective Bounds      |     Work\n",
      " Expl Unexpl |  Obj  Depth IntInf | Incumbent    BestBd   Gap | It/Node Time\n",
      "\n",
      "*    0     0               0    1941.4881056 1941.48811  0.00%     -    0s\n",
      "\n",
      "Explored 1 nodes (267 simplex iterations) in 0.01 seconds (0.00 work units)\n",
      "Thread count was 8 (of 8 available processors)\n",
      "\n",
      "Solution count 3: 1941.49 2109.44 2437.3 \n",
      "\n",
      "Optimal solution found (tolerance 1.00e-04)\n",
      "Best objective 1.941488105569e+03, best bound 1.941488105569e+03, gap 0.0000%\n"
     ]
    }
   ],
   "source": [
    "k = 4\n",
    "min_cluster_size = ratings.shape[0]//(k+1)\n",
    "print(min_cluster_size)\n",
    "\n",
    "row_clusters = KMeans(n_clusters=4, random_state=0).fit(ratings)\n",
    "row_centers = row_clusters.cluster_centers_\n",
    "distance_matrix = cdist(ratings, row_centers)\n",
    "print(distance_matrix.shape)\n",
    "# Now match each row to a column such that the total number of rows matching to columns is roughly equal.\n",
    "import gurobipy as gp\n",
    "m = gp.Model()\n",
    "\n",
    "matching = m.addMVar(distance_matrix.shape, vtype=gp.GRB.BINARY)\n",
    "m.addConstr(matching.sum(axis=1) == 1)\n",
    "m.addConstr(matching.sum(axis=0) >= min_cluster_size)\n",
    "\n",
    "obj = (matching*distance_matrix).sum()\n",
    "\n",
    "m.setObjective(obj)\n",
    "m.optimize()\n",
    "\n",
    "row_clusters = np.where(matching.x)[1]"
   ]
  },
  {
   "cell_type": "code",
   "execution_count": 297,
   "id": "2f8b1bfa",
   "metadata": {},
   "outputs": [
    {
     "name": "stdout",
     "output_type": "stream",
     "text": [
      "122\n",
      "(613, 4)\n",
      "Gurobi Optimizer version 10.0.3 build v10.0.3rc0 (win64)\n",
      "\n",
      "CPU model: Intel(R) Core(TM) i5-10300H CPU @ 2.50GHz, instruction set [SSE2|AVX|AVX2]\n",
      "Thread count: 4 physical cores, 8 logical processors, using up to 8 threads\n",
      "\n",
      "Optimize a model with 617 rows, 2452 columns and 4904 nonzeros\n",
      "Model fingerprint: 0x342f0dfc\n",
      "Variable types: 0 continuous, 2452 integer (2452 binary)\n",
      "Coefficient statistics:\n",
      "  Matrix range     [1e+00, 1e+00]\n",
      "  Objective range  [5e-01, 5e+00]\n",
      "  Bounds range     [1e+00, 1e+00]\n",
      "  RHS range        [1e+00, 1e+02]\n",
      "Found heuristic solution: objective 1990.1054727\n",
      "Presolve time: 0.01s\n",
      "Presolved: 617 rows, 2452 columns, 4904 nonzeros\n",
      "Variable types: 0 continuous, 2452 integer (2452 binary)\n",
      "Found heuristic solution: objective 1781.6924863\n",
      "\n",
      "Root relaxation: objective 1.707275e+03, 763 iterations, 0.01 seconds (0.00 work units)\n",
      "\n",
      "    Nodes    |    Current Node    |     Objective Bounds      |     Work\n",
      " Expl Unexpl |  Obj  Depth IntInf | Incumbent    BestBd   Gap | It/Node Time\n",
      "\n",
      "*    0     0               0    1707.2748703 1707.27487  0.00%     -    0s\n",
      "\n",
      "Explored 1 nodes (763 simplex iterations) in 0.03 seconds (0.01 work units)\n",
      "Thread count was 8 (of 8 available processors)\n",
      "\n",
      "Solution count 3: 1707.27 1781.69 1990.11 \n",
      "\n",
      "Optimal solution found (tolerance 1.00e-04)\n",
      "Best objective 1.707274870277e+03, best bound 1.707274870277e+03, gap 0.0000%\n"
     ]
    }
   ],
   "source": [
    "# Do the same for the columns\n",
    "k = 4\n",
    "min_cluster_size = ratings.shape[1]//(k+1)\n",
    "print(min_cluster_size)\n",
    "\n",
    "col_clusters = KMeans(n_clusters=4, random_state=0).fit(ratings.T)\n",
    "col_centers = col_clusters.cluster_centers_\n",
    "distance_matrix = cdist(ratings.T, col_centers)\n",
    "print(distance_matrix.shape)\n",
    "# Now match each row to a column such that the total number of rows matching to columns is roughly equal.\n",
    "import gurobipy as gp\n",
    "m = gp.Model()\n",
    "\n",
    "matching = m.addMVar(distance_matrix.shape, vtype=gp.GRB.BINARY)\n",
    "m.addConstr(matching.sum(axis=1) == 1)\n",
    "m.addConstr(matching.sum(axis=0) >= min_cluster_size)\n",
    "\n",
    "obj = (matching*distance_matrix).sum()\n",
    "\n",
    "m.setObjective(obj)\n",
    "m.optimize()\n",
    "\n",
    "col_clusters = np.where(matching.x)[1]"
   ]
  },
  {
   "cell_type": "code",
   "execution_count": 300,
   "id": "1bd918b6",
   "metadata": {},
   "outputs": [],
   "source": [
    "# Match up the row clusters with the column clusters. \n",
    "# For each pair of clusters, we take the submatrix corresponding to those rows and columns. We can then\n",
    "# compute the average similarity. Then compute a maximum matching basically."
   ]
  },
  {
   "cell_type": "code",
   "execution_count": 282,
   "id": "3ae0a996",
   "metadata": {},
   "outputs": [
    {
     "name": "stdout",
     "output_type": "stream",
     "text": [
      "Counter({0: 195, 2: 3, 3: 2, 1: 1}) Counter({1: 222, 2: 184, 3: 166, 0: 41})\n"
     ]
    }
   ],
   "source": [
    "col_clusters = KMeans(n_clusters=4, random_state=0).fit(ratings.T)\n",
    "print(Counter(row_clusters.labels_), Counter(col_clusters.labels_))"
   ]
  },
  {
   "cell_type": "code",
   "execution_count": 262,
   "id": "45b691b9",
   "metadata": {},
   "outputs": [
    {
     "data": {
      "text/plain": [
       "array([0, 0, 0, 0, 0, 0, 0, 0, 1, 0, 0, 0, 0, 0, 0, 0, 0, 0, 0, 0, 2, 0,\n",
       "       3, 0, 0, 0, 2, 0, 0, 0, 0, 0, 0, 0, 0, 0, 0, 0, 0, 0, 0, 0, 0, 0,\n",
       "       0, 0, 0, 0, 1, 0, 0, 0, 0, 0, 0, 0, 3, 0, 0, 1, 0, 0, 1, 0, 0, 0,\n",
       "       0, 0, 0, 0, 0, 0, 0, 0, 1, 0, 0, 0, 0, 0, 0, 0, 0, 0, 0, 0, 0, 0,\n",
       "       0, 0, 0, 0, 1, 0, 3, 0, 0, 2, 0, 0, 0, 1, 0, 0, 1, 0, 0, 0, 0, 0,\n",
       "       1, 0, 0, 0, 0, 0, 0, 0, 0, 0, 3, 0, 3, 1, 0, 0, 0, 0, 0, 0, 0, 0,\n",
       "       1, 0, 0, 3, 0, 0, 0, 0, 0, 0, 0, 0, 0, 0, 0, 0, 0, 1, 0, 0, 0, 0,\n",
       "       0, 0, 0, 0, 0, 0, 0, 0, 0, 0, 0, 0, 0, 0, 0, 0, 0, 0, 0, 0, 0, 0,\n",
       "       0, 0, 0, 0, 1, 0, 0, 0, 0, 0, 0, 0, 0, 0, 0, 0, 0, 0, 0, 0, 0, 1,\n",
       "       0, 0, 0])"
      ]
     },
     "execution_count": 262,
     "metadata": {},
     "output_type": "execute_result"
    }
   ],
   "source": [
    "clustering.row_labels_"
   ]
  },
  {
   "cell_type": "code",
   "execution_count": 263,
   "id": "4df72bdd",
   "metadata": {},
   "outputs": [
    {
     "data": {
      "text/plain": [
       "array([3, 3, 2, 3, 1, 3, 0, 1, 0, 1, 3, 3, 2, 1, 2, 0, 0, 1, 1, 1, 2, 2,\n",
       "       1, 0, 2, 3, 1, 1, 1, 3, 0, 1, 1, 3, 2, 1, 0, 3, 3, 0, 3, 0, 0, 3,\n",
       "       3, 1, 3, 3, 2, 2, 3, 3, 3, 0, 0, 1, 1, 3, 2, 3, 3, 1, 2, 2, 3, 2,\n",
       "       3, 3, 0, 3, 2, 0, 3, 3, 0, 1, 3, 3, 1, 2, 1, 2, 1, 1, 2, 3, 2, 2,\n",
       "       2, 2, 3, 2, 2, 2, 0, 2, 2, 0, 3, 1, 2, 1, 1, 1, 2, 1, 1, 2, 2, 1,\n",
       "       3, 3, 2, 2, 2, 3, 3, 0, 2, 2, 2, 3, 2, 3, 0, 3, 1, 1, 1, 1, 1, 2,\n",
       "       2, 1, 2, 2, 2, 2, 2, 2, 2, 0, 2, 0, 1, 2, 3, 1, 1, 3, 3, 2, 3, 3,\n",
       "       2, 1, 1, 2, 2, 1, 2, 0, 1, 2, 3, 3, 0, 1, 1, 2, 3, 0, 3, 0, 1, 3,\n",
       "       0, 2, 2, 3, 2, 2, 0, 0, 3, 2, 3, 0, 3, 2, 1, 3, 3, 1, 1, 3, 0, 3,\n",
       "       2, 3, 3, 1, 3, 2, 3, 3, 2, 0, 3, 3, 3, 1, 2, 2, 2, 0, 0, 2, 0, 2,\n",
       "       3, 0, 3, 2, 1, 1, 3, 0, 2, 1, 2, 1, 2, 3, 2, 0, 1, 2, 3, 2, 1, 2,\n",
       "       0, 3, 3, 2, 0, 2, 2, 2, 2, 1, 0, 3, 3, 3, 2, 2, 3, 1, 0, 3, 2, 3,\n",
       "       0, 3, 1, 3, 1, 2, 3, 2, 3, 0, 2, 3, 1, 1, 0, 2, 3, 0, 2, 2, 3, 3,\n",
       "       1, 3, 0, 3, 2, 2, 3, 3, 3, 2, 1, 3, 3, 1, 2, 1, 3, 3, 1, 1, 2, 2,\n",
       "       3, 3, 3, 1, 3, 1, 1, 2, 1, 3, 2, 3, 3, 1, 0, 1, 3, 2, 2, 3, 1, 1,\n",
       "       2, 3, 0, 3, 2, 3, 1, 1, 1, 1, 1, 1, 3, 3, 1, 3, 3, 2, 3, 2, 3, 0,\n",
       "       2, 1, 2, 2, 2, 2, 1, 1, 1, 2, 1, 1, 2, 3, 2, 3, 2, 1, 1, 1, 2, 2,\n",
       "       2, 2, 3, 2, 2, 3, 3, 3, 1, 3, 1, 0, 2, 1, 2, 3, 1, 3, 3, 3, 2, 1,\n",
       "       3, 3, 2, 1, 3, 2, 3, 3, 1, 3, 1, 2, 3, 1, 3, 1, 2, 2, 1, 2, 1, 1,\n",
       "       3, 1, 3, 2, 3, 2, 3, 2, 0, 1, 2, 3, 2, 2, 3, 2, 3, 1, 2, 3, 3, 3,\n",
       "       3, 3, 2, 0, 3, 2, 2, 3, 0, 3, 1, 1, 1, 2, 3, 2, 1, 3, 2, 2, 2, 1,\n",
       "       1, 1, 2, 0, 3, 2, 1, 1, 1, 1, 1, 1, 1, 3, 3, 1, 0, 3, 1, 3, 1, 3,\n",
       "       2, 1, 1, 3, 2, 2, 1, 3, 3, 2, 0, 3, 2, 0, 1, 2, 1, 3, 3, 3, 1, 1,\n",
       "       3, 1, 1, 0, 2, 2, 3, 3, 2, 3, 3, 2, 1, 3, 0, 3, 1, 1, 1, 3, 3, 1,\n",
       "       3, 1, 3, 3, 2, 2, 3, 3, 3, 1, 2, 2, 3, 3, 1, 2, 3, 3, 0, 2, 2, 1,\n",
       "       3, 3, 3, 1, 3, 1, 2, 3, 2, 1, 3, 3, 2, 2, 2, 3, 1, 2, 3, 2, 2, 2,\n",
       "       3, 2, 3, 3, 2, 3, 3, 0, 3, 2, 1, 3, 1, 1, 0, 2, 1, 2, 3, 2, 2, 3,\n",
       "       2, 3, 3, 2, 0, 3, 2, 1, 0, 1, 1, 1, 0, 3, 3, 3, 3, 0, 0])"
      ]
     },
     "execution_count": 263,
     "metadata": {},
     "output_type": "execute_result"
    }
   ],
   "source": [
    "clustering.column_labels_"
   ]
  },
  {
   "cell_type": "code",
   "execution_count": 278,
   "id": "a7c133ea",
   "metadata": {},
   "outputs": [
    {
     "data": {
      "text/plain": [
       "0"
      ]
     },
     "execution_count": 278,
     "metadata": {},
     "output_type": "execute_result"
    }
   ],
   "source": [
    "np.sum(ratings[:, 13] > .5)"
   ]
  },
  {
   "cell_type": "code",
   "execution_count": 264,
   "id": "a87c7db3",
   "metadata": {},
   "outputs": [
    {
     "data": {
      "text/plain": [
       "(201, 613)"
      ]
     },
     "execution_count": 264,
     "metadata": {},
     "output_type": "execute_result"
    }
   ],
   "source": [
    "ratings.shape"
   ]
  },
  {
   "cell_type": "code",
   "execution_count": 265,
   "id": "fbe35595",
   "metadata": {},
   "outputs": [
    {
     "name": "stdout",
     "output_type": "stream",
     "text": [
      "Counter({3: 207, 2: 183, 1: 156, 0: 67}) Counter({0: 178, 1: 14, 3: 6, 2: 3})\n"
     ]
    }
   ],
   "source": [
    "from collections import Counter\n",
    "print(Counter(clustering.column_labels_), Counter(clustering.row_labels_))"
   ]
  },
  {
   "cell_type": "code",
   "execution_count": 269,
   "id": "cf5a4f63",
   "metadata": {},
   "outputs": [
    {
     "data": {
      "text/plain": [
       "(178, 67)"
      ]
     },
     "execution_count": 269,
     "metadata": {},
     "output_type": "execute_result"
    }
   ],
   "source": [
    "clustering.get_submatrix(0, ratings).shape"
   ]
  },
  {
   "cell_type": "code",
   "execution_count": 240,
   "id": "67767c36",
   "metadata": {},
   "outputs": [],
   "source": [
    "np.save(os.path.join(data_dir, \"groups_%d.npy\" % dset_idx), clustering.column_labels_)"
   ]
  },
  {
   "cell_type": "code",
   "execution_count": 241,
   "id": "91b2799c",
   "metadata": {},
   "outputs": [],
   "source": [
    "coi_mask = (np.reshape(clustering.column_labels_, (1,-1)) == np.reshape(clustering.row_labels_, (-1, 1))).astype(int)"
   ]
  },
  {
   "cell_type": "code",
   "execution_count": 242,
   "id": "f08d8648",
   "metadata": {},
   "outputs": [
    {
     "data": {
      "text/plain": [
       "0.07801124881303109"
      ]
     },
     "execution_count": 242,
     "metadata": {},
     "output_type": "execute_result"
    }
   ],
   "source": [
    "np.sum(coi_mask)/coi_mask.size"
   ]
  },
  {
   "cell_type": "code",
   "execution_count": 243,
   "id": "2594e989",
   "metadata": {},
   "outputs": [],
   "source": [
    "# np.sum(coi_mask, axis=0)"
   ]
  },
  {
   "cell_type": "code",
   "execution_count": 244,
   "id": "6c70120d",
   "metadata": {},
   "outputs": [
    {
     "name": "stdout",
     "output_type": "stream",
     "text": [
      "../data/AAMAS\n"
     ]
    }
   ],
   "source": [
    "print(data_dir)"
   ]
  },
  {
   "cell_type": "code",
   "execution_count": 245,
   "id": "a0d11593",
   "metadata": {},
   "outputs": [],
   "source": [
    "np.save(os.path.join(data_dir, \"coi_mask_%d.npy\" % dset_idx), coi_mask)"
   ]
  },
  {
   "cell_type": "code",
   "execution_count": 246,
   "id": "098e0df3",
   "metadata": {},
   "outputs": [
    {
     "name": "stdout",
     "output_type": "stream",
     "text": [
      "Gurobi Optimizer version 10.0.3 build v10.0.3rc0 (win64)\n",
      "\n",
      "CPU model: Intel(R) Core(TM) i5-10300H CPU @ 2.50GHz, instruction set [SSE2|AVX|AVX2]\n",
      "Thread count: 4 physical cores, 8 logical processors, using up to 8 threads\n",
      "\n",
      "Optimize a model with 124640 rows, 123213 columns and 492852 nonzeros\n",
      "Model fingerprint: 0x42ad7247\n",
      "Variable types: 0 continuous, 123213 integer (123213 binary)\n",
      "Coefficient statistics:\n",
      "  Matrix range     [1e+00, 1e+00]\n",
      "  Objective range  [2e-06, 4e+00]\n",
      "  Bounds range     [1e+00, 1e+00]\n",
      "  RHS range        [1e+00, 1e+01]\n",
      "Presolve removed 123513 rows and 113601 columns\n",
      "Presolve time: 0.06s\n",
      "\n",
      "Explored 0 nodes (0 simplex iterations) in 0.13 seconds (0.13 work units)\n",
      "Thread count was 1 (of 8 available processors)\n",
      "\n",
      "Solution count 0\n",
      "No other solutions better than -1e+100\n",
      "\n",
      "Model is infeasible\n",
      "Best objective -, best bound -, gap -\n"
     ]
    }
   ],
   "source": [
    "import gurobipy as gp\n",
    "m = gp.Model(\"TPMS\")\n",
    "\n",
    "mu_matrix = np.load(\"../data/AAMAS/mu_matrix_%d.npy\" % dset_idx)\n",
    "coi_mask = np.load(\"../data/AAMAS/coi_mask_%d.npy\" % dset_idx)\n",
    "\n",
    "cs = [1, 3, 3]\n",
    "ls = [10, 30, 4]\n",
    "covs_lb = cs[dset_idx-1] * np.ones(mu_matrix.shape[1])\n",
    "covs_ub = covs_lb\n",
    "loads = ls[dset_idx - 1] * np.ones(mu_matrix.shape[0])\n",
    "\n",
    "covs_lb = np.minimum(covs_lb, np.sum(coi_mask, axis=0))\n",
    "\n",
    "\n",
    "alloc = m.addMVar(mu_matrix.shape, vtype=gp.GRB.BINARY, name='alloc')\n",
    "\n",
    "m.addConstr(alloc.sum(axis=0) >= covs_lb)\n",
    "m.addConstr(alloc.sum(axis=0) <= covs_ub)\n",
    "m.addConstr(alloc.sum(axis=1) <= loads)\n",
    "m.addConstr(alloc <= coi_mask)\n",
    "\n",
    "obj = (alloc*mu_matrix).sum()\n",
    "m.setObjective(obj, gp.GRB.MAXIMIZE)\n",
    "\n",
    "m.optimize()"
   ]
  },
  {
   "cell_type": "code",
   "execution_count": 232,
   "id": "b6867e4e",
   "metadata": {},
   "outputs": [
    {
     "ename": "GurobiError",
     "evalue": "Unable to retrieve attribute 'x'",
     "output_type": "error",
     "traceback": [
      "\u001b[1;31m---------------------------------------------------------------------------\u001b[0m",
      "\u001b[1;31mGurobiError\u001b[0m                               Traceback (most recent call last)",
      "\u001b[1;32m~\\AppData\\Local\\Temp\\ipykernel_24200\\3577170402.py\u001b[0m in \u001b[0;36m<module>\u001b[1;34m\u001b[0m\n\u001b[0;32m      1\u001b[0m \u001b[1;31m# np.sum(coi_mask, axis=0)\u001b[0m\u001b[1;33m\u001b[0m\u001b[1;33m\u001b[0m\u001b[0m\n\u001b[1;32m----> 2\u001b[1;33m \u001b[0mnp\u001b[0m\u001b[1;33m.\u001b[0m\u001b[0msum\u001b[0m\u001b[1;33m(\u001b[0m\u001b[0malloc\u001b[0m\u001b[1;33m.\u001b[0m\u001b[0mx\u001b[0m\u001b[1;33m,\u001b[0m \u001b[0maxis\u001b[0m\u001b[1;33m=\u001b[0m\u001b[1;36m1\u001b[0m\u001b[1;33m)\u001b[0m\u001b[1;33m\u001b[0m\u001b[1;33m\u001b[0m\u001b[0m\n\u001b[0m",
      "\u001b[1;32msrc\\gurobipy\\mvar.pxi\u001b[0m in \u001b[0;36mgurobipy.MVar.__getattr__\u001b[1;34m()\u001b[0m\n",
      "\u001b[1;32msrc\\gurobipy\\mvar.pxi\u001b[0m in \u001b[0;36mgurobipy.MVar.getAttr\u001b[1;34m()\u001b[0m\n",
      "\u001b[1;32msrc\\gurobipy\\attrutil.pxi\u001b[0m in \u001b[0;36mgurobipy.__gettypedattrlist\u001b[1;34m()\u001b[0m\n",
      "\u001b[1;31mGurobiError\u001b[0m: Unable to retrieve attribute 'x'"
     ]
    }
   ],
   "source": [
    "# np.sum(coi_mask, axis=0)\n",
    "np.sum(alloc.x, axis=1)"
   ]
  },
  {
   "cell_type": "code",
   "execution_count": 182,
   "id": "e7a432c2",
   "metadata": {},
   "outputs": [
    {
     "data": {
      "text/plain": [
       "array([ 16, 136, 136,   8, 136, 136, 136, 136,   8, 136,  16, 136, 136,\n",
       "       136,   8,   0,  16, 136, 136, 136,   8,   8,   8, 136,  16, 136,\n",
       "       136, 136, 136,   8])"
      ]
     },
     "execution_count": 182,
     "metadata": {},
     "output_type": "execute_result"
    }
   ],
   "source": [
    "np.sum(coi_mask, axis=0)[:30]"
   ]
  },
  {
   "cell_type": "code",
   "execution_count": 284,
   "id": "40546ea5",
   "metadata": {},
   "outputs": [
    {
     "name": "stdout",
     "output_type": "stream",
     "text": [
      "Gurobi Optimizer version 10.0.3 build v10.0.3rc0 (win64)\n",
      "\n",
      "CPU model: Intel(R) Core(TM) i5-10300H CPU @ 2.50GHz, instruction set [SSE2|AVX|AVX2]\n",
      "Thread count: 4 physical cores, 8 logical processors, using up to 8 threads\n",
      "\n",
      "Optimize a model with 311464 rows, 308440 columns and 1233760 nonzeros\n",
      "Model fingerprint: 0x5203af86\n",
      "Variable types: 0 continuous, 308440 integer (308440 binary)\n",
      "Coefficient statistics:\n",
      "  Matrix range     [1e+00, 1e+00]\n",
      "  Objective range  [1e-05, 1e+00]\n",
      "  Bounds range     [1e+00, 1e+00]\n",
      "  RHS range        [1e+00, 2e+01]\n",
      "Presolve removed 309865 rows and 202092 columns\n",
      "Presolve time: 0.73s\n",
      "Presolved: 1599 rows, 106348 columns, 212627 nonzeros\n",
      "Variable types: 0 continuous, 106348 integer (106348 binary)\n",
      "Found heuristic solution: objective 2196.5052325\n",
      "Found heuristic solution: objective 2327.2102615\n",
      "Deterministic concurrent LP optimizer: primal and dual simplex\n",
      "Showing first log only...\n",
      "\n",
      "Concurrent spin time: 0.01s\n",
      "\n",
      "Solved with dual simplex\n",
      "\n",
      "Root relaxation: objective 2.448527e+03, 3383 iterations, 0.42 seconds (0.27 work units)\n",
      "\n",
      "    Nodes    |    Current Node    |     Objective Bounds      |     Work\n",
      " Expl Unexpl |  Obj  Depth IntInf | Incumbent    BestBd   Gap | It/Node Time\n",
      "\n",
      "*    0     0               0    2448.5271969 2448.52720  0.00%     -    1s\n",
      "\n",
      "Explored 1 nodes (3383 simplex iterations) in 1.80 seconds (1.53 work units)\n",
      "Thread count was 8 (of 8 available processors)\n",
      "\n",
      "Solution count 3: 2448.53 2327.21 2196.51 \n",
      "\n",
      "Optimal solution found (tolerance 1.00e-04)\n",
      "Best objective 2.448527196858e+03, best bound 2.448527196858e+03, gap 0.0000%\n"
     ]
    }
   ],
   "source": [
    "# Does it work for the ads and cs datasets?\n",
    "import gurobipy as gp\n",
    "m = gp.Model(\"TPMS\")\n",
    "\n",
    "mu_matrix = np.load(\"../data/cs/asst_scores.npy\")\n",
    "coi_mask = np.load(\"../data/cs/coi_mask.npy\")\n",
    "\n",
    "covs_lb = 2 * np.ones(mu_matrix.shape[1])\n",
    "covs_ub = covs_lb\n",
    "loads = 20 * np.ones(mu_matrix.shape[0])\n",
    "\n",
    "covs_lb = np.minimum(covs_lb, np.sum(coi_mask, axis=0))\n",
    "\n",
    "\n",
    "alloc = m.addMVar(mu_matrix.shape, vtype=gp.GRB.BINARY, name='alloc')\n",
    "\n",
    "m.addConstr(alloc.sum(axis=0) >= covs_lb)\n",
    "m.addConstr(alloc.sum(axis=0) <= covs_ub)\n",
    "m.addConstr(alloc.sum(axis=1) <= loads)\n",
    "m.addConstr(alloc <= coi_mask)\n",
    "\n",
    "obj = (alloc*mu_matrix).sum()\n",
    "m.setObjective(obj, gp.GRB.MAXIMIZE)\n",
    "\n",
    "m.optimize()"
   ]
  },
  {
   "cell_type": "code",
   "execution_count": 285,
   "id": "2155bf7d",
   "metadata": {},
   "outputs": [
    {
     "name": "stdout",
     "output_type": "stream",
     "text": [
      "Gurobi Optimizer version 10.0.3 build v10.0.3rc0 (win64)\n",
      "\n",
      "CPU model: Intel(R) Core(TM) i5-10300H CPU @ 2.50GHz, instruction set [SSE2|AVX|AVX2]\n",
      "Thread count: 4 physical cores, 8 logical processors, using up to 8 threads\n",
      "\n",
      "Optimize a model with 212199 rows, 209900 columns and 839600 nonzeros\n",
      "Model fingerprint: 0xbd962f53\n",
      "Variable types: 0 continuous, 209900 integer (209900 binary)\n",
      "Coefficient statistics:\n",
      "  Matrix range     [1e+00, 1e+00]\n",
      "  Objective range  [2e-04, 6e+01]\n",
      "  Bounds range     [1e+00, 1e+00]\n",
      "  RHS range        [1e+00, 1e+02]\n",
      "Found heuristic solution: objective 16827.577087\n",
      "Presolve removed 211564 rows and 189812 columns\n",
      "Presolve time: 0.38s\n",
      "Presolved: 635 rows, 20088 columns, 40176 nonzeros\n",
      "Found heuristic solution: objective 21948.911133\n",
      "Variable types: 0 continuous, 20088 integer (20088 binary)\n",
      "\n",
      "Root relaxation: objective 2.195444e+04, 1635 iterations, 0.04 seconds (0.05 work units)\n",
      "\n",
      "    Nodes    |    Current Node    |     Objective Bounds      |     Work\n",
      " Expl Unexpl |  Obj  Depth IntInf | Incumbent    BestBd   Gap | It/Node Time\n",
      "\n",
      "*    0     0               0    21954.442383 21954.4424  0.00%     -    0s\n",
      "\n",
      "Explored 1 nodes (1635 simplex iterations) in 0.58 seconds (0.48 work units)\n",
      "Thread count was 8 (of 8 available processors)\n",
      "\n",
      "Solution count 3: 21954.4 21948.9 16827.6 \n",
      "\n",
      "Optimal solution found (tolerance 1.00e-04)\n",
      "Best objective 2.195444238281e+04, best bound 2.195444238281e+04, gap 0.0000%\n"
     ]
    }
   ],
   "source": [
    "# Does it work for the ads and cs datasets?\n",
    "import gurobipy as gp\n",
    "m = gp.Model(\"TPMS\")\n",
    "\n",
    "mu_matrix = np.load(\"../data/Advertising/mus.npy\")\n",
    "coi_mask = np.load(\"../data/Advertising/coi_mask.npy\")\n",
    "\n",
    "covs_lb = np.zeros(mu_matrix.shape[1]) # ad campaigns have no lower bounds\n",
    "covs_ub = 100*np.ones(mu_matrix.shape[1])\n",
    "loads = np.ones(mu_matrix.shape[0])\n",
    "\n",
    "covs_lb = np.minimum(covs_lb, np.sum(coi_mask, axis=0))\n",
    "\n",
    "\n",
    "alloc = m.addMVar(mu_matrix.shape, vtype=gp.GRB.BINARY, name='alloc')\n",
    "\n",
    "m.addConstr(alloc.sum(axis=0) >= covs_lb)\n",
    "m.addConstr(alloc.sum(axis=0) <= covs_ub)\n",
    "m.addConstr(alloc.sum(axis=1) <= loads)\n",
    "m.addConstr(alloc <= coi_mask)\n",
    "\n",
    "obj = (alloc*mu_matrix).sum()\n",
    "m.setObjective(obj, gp.GRB.MAXIMIZE)\n",
    "\n",
    "m.optimize()"
   ]
  },
  {
   "cell_type": "code",
   "execution_count": null,
   "id": "0d875e79",
   "metadata": {},
   "outputs": [],
   "source": []
  }
 ],
 "metadata": {
  "kernelspec": {
   "display_name": "Python 3 (ipykernel)",
   "language": "python",
   "name": "python3"
  },
  "language_info": {
   "codemirror_mode": {
    "name": "ipython",
    "version": 3
   },
   "file_extension": ".py",
   "mimetype": "text/x-python",
   "name": "python",
   "nbconvert_exporter": "python",
   "pygments_lexer": "ipython3",
   "version": "3.9.13"
  }
 },
 "nbformat": 4,
 "nbformat_minor": 5
}
