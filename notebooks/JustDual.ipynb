{
 "cells": [
  {
   "cell_type": "code",
   "execution_count": 1,
   "id": "668ce4c7",
   "metadata": {},
   "outputs": [],
   "source": [
    "from collections import defaultdict, Counter\n",
    "from datetime import datetime\n",
    "from xml.etree import ElementTree as ET\n",
    "import seaborn as sns\n",
    "import matplotlib.pyplot as plt\n",
    "from sentence_transformers import SentenceTransformer, util\n",
    "from tqdm.notebook import trange, tqdm\n",
    "from sklearn.metrics import pairwise_distances, log_loss\n",
    "import ot\n",
    "import numpy as np\n",
    "from itertools import combinations\n",
    "import random\n",
    "import pandas as pd\n",
    "from sklearn.linear_model import LogisticRegression, LinearRegression\n",
    "from sklearn.preprocessing import StandardScaler\n",
    "from copy import deepcopy\n",
    "import pickle\n",
    "from scipy.special import expit, logit\n",
    "import torch\n",
    "from torch import nn\n",
    "from sklearn.isotonic import IsotonicRegression\n",
    "import csv, os, re\n",
    "from sklearn.decomposition import PCA\n",
    "from sklearn.neighbors import KernelDensity\n",
    "from scipy.special import logsumexp\n",
    "import math\n",
    "from itertools import product\n",
    "import cvxpy as cp\n",
    "import gurobipy as gp"
   ]
  },
  {
   "cell_type": "code",
   "execution_count": 2,
   "id": "6ca6312b",
   "metadata": {},
   "outputs": [],
   "source": [
    "small_pred_scores = np.load(\"tmp_dset/small_pred_scores.npy\")\n",
    "alloc_max_usw = np.load(\"tmp_dset/alloc_max_usw.npy\")\n",
    "dr_all = np.load(\"tmp_dset/dr_all.npy\")\n",
    "dr_all = dr_all.reshape(small_pred_scores.shape)**(-1)\n",
    "eta = 0.05\n",
    "xe_test = 0.05"
   ]
  },
  {
   "cell_type": "code",
   "execution_count": null,
   "id": "767666a7",
   "metadata": {},
   "outputs": [],
   "source": []
  },
  {
   "cell_type": "code",
   "execution_count": 3,
   "id": "14b98c5a",
   "metadata": {},
   "outputs": [
    {
     "name": "stdout",
     "output_type": "stream",
     "text": [
      "Set parameter Username\n",
      "Academic license - for non-commercial use only - expires 2024-10-09\n",
      "Gurobi Optimizer version 10.0.3 build v10.0.3rc0 (win64)\n",
      "\n",
      "CPU model: Intel(R) Core(TM) i5-10300H CPU @ 2.50GHz, instruction set [SSE2|AVX|AVX2]\n",
      "Thread count: 4 physical cores, 8 logical processors, using up to 8 threads\n",
      "\n",
      "Optimize a model with 6160 rows, 6161 columns and 12320 nonzeros\n",
      "Model fingerprint: 0xfffdc5d9\n",
      "Coefficient statistics:\n",
      "  Matrix range     [5e-04, 1e+00]\n",
      "  Objective range  [1e-01, 1e+00]\n",
      "  Bounds range     [0e+00, 0e+00]\n",
      "  RHS range        [6e+00, 6e+00]\n",
      "Presolve removed 6160 rows and 6161 columns\n",
      "Presolve time: 0.02s\n",
      "Presolve: All rows and columns removed\n",
      "Iteration    Objective       Primal Inf.    Dual Inf.      Time\n",
      "       0    1.4000000e+03   0.000000e+00   0.000000e+00      0s\n",
      "\n",
      "Solved in 0 iterations and 0.03 seconds (0.00 work units)\n",
      "Optimal objective  1.400000000e+03\n"
     ]
    }
   ],
   "source": [
    "m = gp.Model()\n",
    "\n",
    "beta = m.addMVar(small_pred_scores.shape, lb=0, name='beta')\n",
    "lam = m.addVar(lb=0, name='lam')\n",
    "aux = m.addMVar(small_pred_scores.shape, name='aux')\n",
    "\n",
    "alloc = alloc_max_usw\n",
    "\n",
    "x = np.log(1-small_pred_scores)\n",
    "y = np.log(small_pred_scores)\n",
    "dr_mat = dr_all.reshape(small_pred_scores.shape)\n",
    "\n",
    "dr_times_x_minus_y = dr_mat * (x - y)\n",
    "dr_times_x = dr_mat * x\n",
    "\n",
    "obj = -1*lam*(xe_test + eta)\n",
    "obj -= aux.sum()\n",
    "obj -= beta.sum()\n",
    "obj += 5*alloc.sum()\n",
    "\n",
    "m.setObjective(obj, gp.GRB.MAXIMIZE)\n",
    "\n",
    "num_users, num_questions = small_pred_scores.shape[0], small_pred_scores.shape[1]\n",
    "\n",
    "one_over_mn = (1/small_pred_scores.size)\n",
    "m.addConstrs(beta[i,j] + one_over_mn*lam*dr_times_x_minus_y[i,j] + 6*alloc[i,j] >= 0 for (i,j) in product(range(num_users), range(num_questions)))\n",
    "\n",
    "m.addConstrs(aux[i,j] == one_over_mn*lam*dr_times_x[i,j] for (i,j) in product(range(num_users), range(num_questions)))\n",
    "\n",
    "m.optimize()"
   ]
  },
  {
   "cell_type": "code",
   "execution_count": null,
   "id": "1f6c1fd7",
   "metadata": {},
   "outputs": [],
   "source": []
  },
  {
   "cell_type": "code",
   "execution_count": 4,
   "id": "19921301",
   "metadata": {},
   "outputs": [
    {
     "data": {
      "text/plain": [
       "array(1400.)"
      ]
     },
     "execution_count": 4,
     "metadata": {},
     "output_type": "execute_result"
    }
   ],
   "source": [
    "obj.getValue()"
   ]
  },
  {
   "cell_type": "code",
   "execution_count": 5,
   "id": "a84c5c83",
   "metadata": {},
   "outputs": [],
   "source": [
    "def get_worst_case(alloc, preds_score, dens_ratio, emp_loss, eta):\n",
    "    m = gp.Model()\n",
    "\n",
    "    v = m.addMVar(preds_score.shape)\n",
    "    aux = m.addMVar(preds_score.shape)\n",
    "\n",
    "    x = np.log(1-preds_score )\n",
    "    y = np.log(preds_score )\n",
    "\n",
    "    dr_times_x_minus_y = dens_ratio * (x - y)\n",
    "    dr_times_x = dens_ratio * x\n",
    "\n",
    "    rhs = preds_score.size*(emp_loss + eta)\n",
    "    lhs = aux.sum()\n",
    "    \n",
    "    num_users, num_questions = small_pred_scores.shape[0], small_pred_scores.shape[1]\n",
    "\n",
    "    m.addConstrs(aux[i,j] == v[i,j]*dr_times_x_minus_y[i,j] - dr_times_x[i,j] for (i,j) in product(range(num_users), range(num_questions)))\n",
    "    m.addConstr(lhs <= rhs)\n",
    "    m.addConstr(v >= 0)\n",
    "    m.addConstr(v <= 1)\n",
    "    obj = (alloc*(6*v-5)).sum()\n",
    "    m.setObjective(obj)\n",
    "    m.optimize()\n",
    "\n",
    "    return v.X"
   ]
  },
  {
   "cell_type": "code",
   "execution_count": 6,
   "id": "f7cf73d7",
   "metadata": {},
   "outputs": [
    {
     "name": "stdout",
     "output_type": "stream",
     "text": [
      "Gurobi Optimizer version 10.0.3 build v10.0.3rc0 (win64)\n",
      "\n",
      "CPU model: Intel(R) Core(TM) i5-10300H CPU @ 2.50GHz, instruction set [SSE2|AVX|AVX2]\n",
      "Thread count: 4 physical cores, 8 logical processors, using up to 8 threads\n",
      "\n",
      "Optimize a model with 9241 rows, 6160 columns and 15400 nonzeros\n",
      "Model fingerprint: 0x7d4479aa\n",
      "Coefficient statistics:\n",
      "  Matrix range     [1e+00, 5e+00]\n",
      "  Objective range  [6e+00, 6e+00]\n",
      "  Bounds range     [0e+00, 0e+00]\n",
      "  RHS range        [1e+00, 3e+02]\n",
      "Presolve removed 9240 rows and 5880 columns\n",
      "Presolve time: 0.01s\n",
      "Presolved: 1 rows, 280 columns, 280 nonzeros\n",
      "\n",
      "Iteration    Objective       Primal Inf.    Dual Inf.      Time\n",
      "       0   -1.4000000e+03   1.011007e+02   0.000000e+00      0s\n",
      "       1   -1.0001968e+02   0.000000e+00   0.000000e+00      0s\n",
      "\n",
      "Solved in 1 iterations and 0.03 seconds (0.01 work units)\n",
      "Optimal objective -1.000196753e+02\n"
     ]
    }
   ],
   "source": [
    "worst_v = get_worst_case(alloc, small_pred_scores, \n",
    "                         dr_all.reshape(small_pred_scores.shape), \n",
    "                         xe_test, eta)"
   ]
  },
  {
   "cell_type": "code",
   "execution_count": 7,
   "id": "fd72269b",
   "metadata": {},
   "outputs": [
    {
     "data": {
      "text/plain": [
       "-100.01967528286792"
      ]
     },
     "execution_count": 7,
     "metadata": {},
     "output_type": "execute_result"
    }
   ],
   "source": [
    "np.sum((worst_v*6 - 5)*alloc)"
   ]
  },
  {
   "cell_type": "code",
   "execution_count": 8,
   "id": "1d320c38",
   "metadata": {},
   "outputs": [
    {
     "data": {
      "text/plain": [
       "<Axes: ylabel='Count'>"
      ]
     },
     "execution_count": 8,
     "metadata": {},
     "output_type": "execute_result"
    },
    {
     "data": {
      "image/png": "[encoded data removed]",
      "text/plain": [
       "<Figure size 640x480 with 1 Axes>"
      ]
     },
     "metadata": {},
     "output_type": "display_data"
    }
   ],
   "source": [
    "sns.histplot(worst_v[np.where(alloc)])"
   ]
  },
  {
   "cell_type": "code",
   "execution_count": 9,
   "id": "b32a591e",
   "metadata": {},
   "outputs": [],
   "source": [
    "def compute_primal(A_prime, a_prime, b_prime, p_hat, Lamda, xi, eta):\n",
    "    m = A_prime.shape[0]\n",
    "    n = A_prime.shape[1]\n",
    "    A_prime = A_prime.flatten() # Row major\n",
    "    p_hat = p_hat.flatten()\n",
    "    Lamda = Lamda.flatten()\n",
    "    A_temp = A_prime * (a_prime- b_prime)\n",
    "\n",
    "    eps=0\n",
    "    log_p_phat = np.log(p_hat + eps)\n",
    "    log_one_minus_phat = np.log(1-p_hat + eps)\n",
    "\n",
    "    model = gp.Model()\n",
    "\n",
    "    mn = int(m*n)\n",
    "    norm = 1.0/mn\n",
    "\n",
    "\n",
    "    p = model.addMVar(mn, lb=0, ub=1.0, vtype=gp.GRB.CONTINUOUS, name=\"pval\")\n",
    "\n",
    "    model.addConstr(gp.quicksum(norm*(-log_p_phat[idx]*Lamda[idx]*p[idx] - Lamda[idx] * (1-p[idx])*log_one_minus_phat[idx]) for idx in range(mn)) == eta + xi)\n",
    "\n",
    "    model.setObjective((A_temp)@ p, gp.GRB.MINIMIZE)\n",
    "    model.setParam('OutputFlag', 1)\n",
    "\n",
    "    model.optimize()\n",
    "    pvals = p.X\n",
    "\n",
    "    return list(pvals)\n",
    "\n",
    "\n",
    "def compute_dual(A_prime, a_prime, b_prime, p_hat, Lamda, xi, eta):\n",
    "    m = A_prime.shape[0]\n",
    "    n = A_prime.shape[1]\n",
    "    A_prime = A_prime.flatten()\n",
    "    p_hat = p_hat.flatten()\n",
    "    Lamda = Lamda.flatten()\n",
    "    A_temp = A_prime * (a_prime - b_prime)\n",
    "\n",
    "    eps=0\n",
    "    log_p_phat = np.log(p_hat ).flatten()\n",
    "    log_one_minus_phat = np.log(1-p_hat ).flatten()\n",
    "\n",
    "    mn = int(m*n)\n",
    "    norm = 1.0/mn\n",
    "    model = gp.Model()\n",
    "\n",
    "\n",
    "    e = -1.0*(mn*(xi + eta)  + np.sum(Lamda *log_one_minus_phat))\n",
    "    neg_ones = -1*np.ones(mn)\n",
    "    c= np.vstack((np.array([e]).reshape(1,1),neg_ones.flatten().reshape(-1,1))).flatten()\n",
    "    f =  Lamda* (log_p_phat - log_one_minus_phat)\n",
    "\n",
    "    x = model.addMVar(mn+1, lb=0, ub=gp.GRB.INFINITY, vtype=gp.GRB.CONTINUOUS, name=\"pval\")\n",
    "\n",
    "    for jdx in range(mn):\n",
    "        model.addConstr(f[jdx]*x[0] - x[jdx+1] <= A_temp[jdx],name='ctr'+ str(jdx))\n",
    "\n",
    "    model.setObjective(c@x, gp.GRB.MAXIMIZE)\n",
    "    model.setParam('OutputFlag', 1)\n",
    "\n",
    "    model.optimize()\n",
    "    pvals = x.X\n",
    "\n",
    "    return list(pvals)"
   ]
  },
  {
   "cell_type": "code",
   "execution_count": 10,
   "id": "0bec8598",
   "metadata": {},
   "outputs": [
    {
     "name": "stdout",
     "output_type": "stream",
     "text": [
      "Gurobi Optimizer version 10.0.3 build v10.0.3rc0 (win64)\n",
      "\n",
      "CPU model: Intel(R) Core(TM) i5-10300H CPU @ 2.50GHz, instruction set [SSE2|AVX|AVX2]\n",
      "Thread count: 4 physical cores, 8 logical processors, using up to 8 threads\n",
      "\n",
      "Optimize a model with 1 rows, 3080 columns and 3080 nonzeros\n",
      "Model fingerprint: 0x34b5dc90\n",
      "Coefficient statistics:\n",
      "  Matrix range     [5e-04, 2e-03]\n",
      "  Objective range  [6e+00, 6e+00]\n",
      "  Bounds range     [1e+00, 1e+00]\n",
      "  RHS range        [3e+00, 3e+00]\n",
      "Presolve removed 0 rows and 2800 columns\n",
      "Presolve time: 0.01s\n",
      "Presolved: 1 rows, 280 columns, 280 nonzeros\n",
      "\n",
      "Iteration    Objective       Primal Inf.    Dual Inf.      Time\n",
      "       0    0.0000000e+00   4.201588e+00   0.000000e+00      0s\n",
      "       1    1.2999803e+03   0.000000e+00   0.000000e+00      0s\n",
      "\n",
      "Solved in 1 iterations and 0.01 seconds (0.00 work units)\n",
      "Optimal objective  1.299980325e+03\n",
      "Gurobi Optimizer version 10.0.3 build v10.0.3rc0 (win64)\n",
      "\n",
      "CPU model: Intel(R) Core(TM) i5-10300H CPU @ 2.50GHz, instruction set [SSE2|AVX|AVX2]\n",
      "Thread count: 4 physical cores, 8 logical processors, using up to 8 threads\n",
      "\n",
      "Optimize a model with 3080 rows, 3081 columns and 6160 nonzeros\n",
      "Model fingerprint: 0x4c575916\n",
      "Coefficient statistics:\n",
      "  Matrix range     [1e+00, 5e+00]\n",
      "  Objective range  [1e+00, 1e+04]\n",
      "  Bounds range     [0e+00, 0e+00]\n",
      "  RHS range        [6e+00, 6e+00]\n",
      "Presolve removed 2800 rows and 2800 columns\n",
      "Presolve time: 0.01s\n",
      "Presolved: 280 rows, 281 columns, 560 nonzeros\n",
      "\n",
      "Iteration    Objective       Primal Inf.    Dual Inf.      Time\n",
      "       0    8.0880561e+32   2.233721e+32   8.088056e+02      0s\n",
      "     344    1.2999803e+03   0.000000e+00   0.000000e+00      0s\n",
      "\n",
      "Solved in 344 iterations and 0.02 seconds (0.00 work units)\n",
      "Optimal objective  1.299980325e+03\n"
     ]
    }
   ],
   "source": [
    "eta = 0.05\n",
    "xe_test = 0.05\n",
    "a_prime=1\n",
    "b_prime=-5\n",
    "p_primal =compute_primal(alloc_max_usw,a_prime , b_prime, small_pred_scores, dr_all,xe_test, eta)\n",
    "p_primal = np.array(p_primal)\n",
    "p_dual = compute_dual(alloc_max_usw,a_prime , b_prime, small_pred_scores, dr_all,xe_test, eta)\n",
    "p_dual = np.array(p_dual)"
   ]
  },
  {
   "cell_type": "code",
   "execution_count": 11,
   "id": "fd9e813d",
   "metadata": {},
   "outputs": [],
   "source": [
    "# a_prime, b_prime = 1, -5\n",
    "# p_primal = compute_primal(alloc_max_usw,a_prime , b_prime, small_pred_scores, dr_all,xe_test, eta)"
   ]
  },
  {
   "cell_type": "code",
   "execution_count": 12,
   "id": "f9ac1a3e",
   "metadata": {},
   "outputs": [],
   "source": [
    "# p_dual = compute_dual(alloc_max_usw,a_prime , b_prime, small_pred_scores, dr_all,xe_test, eta)"
   ]
  },
  {
   "cell_type": "code",
   "execution_count": 13,
   "id": "e16798b5",
   "metadata": {},
   "outputs": [
    {
     "data": {
      "text/plain": [
       "<Axes: ylabel='Count'>"
      ]
     },
     "execution_count": 13,
     "metadata": {},
     "output_type": "execute_result"
    },
    {
     "data": {
      "image/png": "[encoded data removed]",
      "text/plain": [
       "<Figure size 640x480 with 1 Axes>"
      ]
     },
     "metadata": {},
     "output_type": "display_data"
    }
   ],
   "source": [
    "sns.histplot(worst_v[np.where(alloc)])"
   ]
  },
  {
   "cell_type": "code",
   "execution_count": 14,
   "id": "917c8671",
   "metadata": {},
   "outputs": [
    {
     "data": {
      "text/plain": [
       "<Axes: ylabel='Count'>"
      ]
     },
     "execution_count": 14,
     "metadata": {},
     "output_type": "execute_result"
    },
    {
     "data": {
      "image/png": "[encoded data removed]",
      "text/plain": [
       "<Figure size 640x480 with 1 Axes>"
      ]
     },
     "metadata": {},
     "output_type": "display_data"
    }
   ],
   "source": [
    "sns.histplot(p_primal.reshape(alloc.shape)[np.where(alloc)])"
   ]
  },
  {
   "cell_type": "code",
   "execution_count": 15,
   "id": "6da4788d",
   "metadata": {},
   "outputs": [
    {
     "data": {
      "text/plain": [
       "1.2650436254091346e-11"
      ]
     },
     "execution_count": 15,
     "metadata": {},
     "output_type": "execute_result"
    }
   ],
   "source": [
    "np.sum(worst_v.reshape(alloc.shape) - p_primal.reshape(alloc.shape))"
   ]
  },
  {
   "cell_type": "code",
   "execution_count": 16,
   "id": "624708be",
   "metadata": {},
   "outputs": [
    {
     "name": "stdout",
     "output_type": "stream",
     "text": [
      "Elita's primal vs. my primal:\n",
      "-100.01967528294381 -100.01967528286792\n"
     ]
    }
   ],
   "source": [
    "print(\"Elita's primal vs. my primal:\")\n",
    "print(np.sum(alloc_max_usw*((a_prime-b_prime)*np.array(p_primal).reshape(small_pred_scores.shape) + b_prime)), np.sum((worst_v*6 - 5)*alloc))"
   ]
  },
  {
   "cell_type": "code",
   "execution_count": 17,
   "id": "c4ec9a6c",
   "metadata": {},
   "outputs": [
    {
     "name": "stdout",
     "output_type": "stream",
     "text": [
      "64 64\n"
     ]
    }
   ],
   "source": [
    "print(np.sum(worst_v <= 0.99), np.sum(np.array(p_primal) <= 0.99))"
   ]
  },
  {
   "cell_type": "code",
   "execution_count": 18,
   "id": "128803b8",
   "metadata": {},
   "outputs": [],
   "source": [
    "# np.sum(alloc_max_usw*(a_prime*np.array(p_dual).reshape((small_pred_scores.shape)) + b_prime))"
   ]
  },
  {
   "cell_type": "code",
   "execution_count": 19,
   "id": "fd11c95d",
   "metadata": {},
   "outputs": [
    {
     "data": {
      "text/plain": [
       "(3081, 3080)"
      ]
     },
     "execution_count": 19,
     "metadata": {},
     "output_type": "execute_result"
    }
   ],
   "source": [
    "len(p_dual), len(p_primal)"
   ]
  },
  {
   "cell_type": "code",
   "execution_count": 20,
   "id": "f739d9a2",
   "metadata": {},
   "outputs": [
    {
     "data": {
      "text/plain": [
       "array([1.85898889, 4.830766  , 4.81458922, ..., 6.00945668, 5.84207631,\n",
       "       6.11478167])"
      ]
     },
     "execution_count": 20,
     "metadata": {},
     "output_type": "execute_result"
    }
   ],
   "source": [
    "p_dual"
   ]
  },
  {
   "cell_type": "code",
   "execution_count": 21,
   "id": "38b13874",
   "metadata": {},
   "outputs": [
    {
     "data": {
      "text/plain": [
       "array([1., 1., 1., ..., 1., 1., 1.])"
      ]
     },
     "execution_count": 21,
     "metadata": {},
     "output_type": "execute_result"
    }
   ],
   "source": [
    "p_primal"
   ]
  },
  {
   "cell_type": "code",
   "execution_count": 22,
   "id": "bd9c32f8",
   "metadata": {},
   "outputs": [
    {
     "name": "stdout",
     "output_type": "stream",
     "text": [
      "-100.0196752828615\n"
     ]
    }
   ],
   "source": [
    "xi = .05\n",
    "e = -1.0*(dr_all.size*(xi + eta)  + np.sum(dr_all * np.log(1-small_pred_scores)))\n",
    "neg_ones = -1*np.ones(dr_all.size)\n",
    "c= np.vstack((np.array([e]).reshape(1,1),neg_ones.flatten().reshape(-1,1))).flatten()\n",
    "print(np.matmul(c.T, p_dual) - 5*np.sum(alloc_max_usw))"
   ]
  },
  {
   "cell_type": "markdown",
   "id": "514109d1",
   "metadata": {},
   "source": [
    "# Now here's the code for the GESW"
   ]
  }
 ],
 "metadata": {
  "kernelspec": {
   "display_name": "Python 3 (ipykernel)",
   "language": "python",
   "name": "python3"
  },
  "language_info": {
   "codemirror_mode": {
    "name": "ipython",
    "version": 3
   },
   "file_extension": ".py",
   "mimetype": "text/x-python",
   "name": "python",
   "nbconvert_exporter": "python",
   "pygments_lexer": "ipython3",
   "version": "3.9.13"
  }
 },
 "nbformat": 4,
 "nbformat_minor": 5
}
